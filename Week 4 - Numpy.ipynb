{
 "cells": [
  {
   "cell_type": "markdown",
   "metadata": {},
   "source": [
    "# Introduction to NumPy \n",
    "NumPy stands for Numerical Python, is an open-source Python library that provides support for large, multi-dimensional arrays and matrices.\n",
    "\n",
    "It also have a collection of high-level mathematical functions to operate on arrays.\n",
    "\n",
    "## Features of NumPy\n",
    "- A powerful N-dimensional array object\n",
    "- Sophisticated (broadcasting) functions\n",
    "- Tools for integrating C/C++ and Fortran code\n",
    "- Useful linear algebra, Fourier transform, and random number capabilities\n",
    "\n",
    "## Why numpy array (ndarray) is faster than Python List\n",
    "-  Each element in a list is a reference to an object, and Python must perform additional checks to handle different types of data.\n",
    "- This flexibility with list comes at the cost of performance because each item must be dynamically typed, and operations on heterogeneous data are slower due to Python's runtime type checks.\n",
    "- Numpy Array (ndarray):   ndarray is optimized for numerical data and requires all elements to be of the same type (all integers or all floats). allows NumPy to allocate a contiguous block of memory and perform operations more efficiently, using low-level optimizations such as vectorization.\n",
    "\n",
    "## Memory Layout of List and ndarray\n",
    "- List: Lists are implemented as arrays of pointers (references) to the actual objects they contain \n",
    "- ndarray: ndarray arrays are stored in contiguous memory blocks, and hence we can access data fast\n",
    "\n",
    "![array-vs-list](./assets/array_vs_list.png)"
   ]
  },
  {
   "cell_type": "markdown",
   "metadata": {},
   "source": [
    "# NumPy Array Creation\n",
    "### From Python List, Tuple\n"
   ]
  },
  {
   "cell_type": "code",
   "execution_count": 3,
   "metadata": {},
   "outputs": [
    {
     "name": "stdout",
     "output_type": "stream",
     "text": [
      "[2 2 3 4 5 6]\n",
      "[1 3 4 5]\n",
      "<class 'numpy.ndarray'>\n",
      "(6,)\n",
      "int32\n"
     ]
    }
   ],
   "source": [
    "import numpy as np\n",
    "\n",
    "np_array = np.array([2,2,3,4,5,6]) # from list\n",
    "print(np_array)\n",
    "np_array_tuple = np.array((1,3,4,5)) # from tuple\n",
    "print(np_array_tuple)\n",
    "print(type(np_array))\n",
    "print(np_array.shape)\n",
    "print(np_array.dtype)"
   ]
  },
  {
   "cell_type": "markdown",
   "metadata": {},
   "source": [
    "### Create array with default values\n",
    "- Create an array filled with zeros ``np.zeros( (2,2))``\n",
    "- Create an array filled with ones ``np.ones((2,2))``\n",
    "- Create an array filled with a specific value ``np.full((2,2),3)``"
   ]
  },
  {
   "cell_type": "code",
   "execution_count": 2,
   "metadata": {},
   "outputs": [
    {
     "name": "stdout",
     "output_type": "stream",
     "text": [
      "[[0. 0.]\n",
      " [0. 0.]]\n",
      "[[1. 1. 1. 1.]\n",
      " [1. 1. 1. 1.]\n",
      " [1. 1. 1. 1.]]\n",
      "[[5 5]\n",
      " [5 5]]\n",
      "float64\n"
     ]
    }
   ],
   "source": [
    "zeros_array = np.zeros((2,2)) # create (n=2,m=2) array filled with zeros\n",
    "print(zeros_array)\n",
    "ones_array = np.ones((3,4)) # create (n=3,m=4) array filled with ones\n",
    "print(ones_array)\n",
    "fill_array = np.full((2,2),5)\n",
    "print(fill_array)\n",
    "print(zeros_array.dtype)"
   ]
  },
  {
   "cell_type": "markdown",
   "metadata": {},
   "source": [
    "### Creating Arrays with Ranges of Values\n",
    "- ``np.arange(0,25,5)`` # ``[0,5,10,15,20]`` similar to range\n",
    "-  ``np.linespace(0,100,1000)`` create evenly spaced  values (1000) between start (0)-end(100)\n"
   ]
  },
  {
   "cell_type": "code",
   "execution_count": null,
   "metadata": {},
   "outputs": [
    {
     "name": "stdout",
     "output_type": "stream",
     "text": [
      "[ 0  1  2  3  4  5  6  7  8  9 10 11 12 13 14 15 16 17 18 19 20 21 22 23\n",
      " 24]\n",
      "[  0.  10.  20.  30.  40.  50.  60.  70.  80.  90. 100.]\n"
     ]
    }
   ],
   "source": [
    "np_arange = np.arange(0,25,1) # similar to range (0,25)\n",
    "print(np_arange)\n",
    "np_line_space = np.linspace(0,100,11) # create evenly  spaced 11-1 points from 0-100\n",
    "print(np_line_space)"
   ]
  },
  {
   "cell_type": "markdown",
   "metadata": {},
   "source": [
    "### Identity,Diagonal matrices\n",
    "- ``np.eye(3,3)``\n",
    "- ``np.diag([1,2,3])``\n"
   ]
  },
  {
   "cell_type": "code",
   "execution_count": null,
   "metadata": {},
   "outputs": [
    {
     "name": "stdout",
     "output_type": "stream",
     "text": [
      "[[1. 0. 0.]\n",
      " [0. 1. 0.]\n",
      " [0. 0. 1.]]\n",
      "[[1 0 0]\n",
      " [0 2 0]\n",
      " [0 0 3]]\n"
     ]
    },
    {
     "data": {
      "text/plain": [
       "1.0"
      ]
     },
     "execution_count": 14,
     "metadata": {},
     "output_type": "execute_result"
    }
   ],
   "source": [
    "identical_array = np.eye(3,3) # identity array (matrix)\n",
    "print(identical_array)\n",
    "diagonal_array = np.diag([1,2,3]) # diagonal array (matrix)\n",
    "print(diagonal_array)\n"
   ]
  },
  {
   "cell_type": "markdown",
   "metadata": {},
   "source": [
    "### Random Arrays\n",
    "- ``np.random.rand([3,3])`` create 3 x 3 array filled with random numbers\n",
    "-  ``np.random.randint(1, 100, (3, 3))`` create 3 x 3 array of random numbers, where numbers are in between 1-100\n",
    "- ``np.random.choice([1,2,3,4,5,6,10],size=(3,3))`` create 3 x 3 array of random numbers, where numbers are from given list\n",
    "- ``np.random.normal(mu,sigma,1000)`` Create random array of elements 1000 with mu=population mean and sigma=population standard deviation"
   ]
  },
  {
   "cell_type": "code",
   "execution_count": null,
   "metadata": {},
   "outputs": [
    {
     "name": "stdout",
     "output_type": "stream",
     "text": [
      "[[0.25643401 0.74542896 0.35985639]\n",
      " [0.74453572 0.33119275 0.61658734]\n",
      " [0.0996911  0.02322836 0.06245408]]\n",
      "[[20 31 72]\n",
      " [65 29 33]\n",
      " [38 54 76]]\n",
      "[[ 4 10 10]\n",
      " [ 9  4  5]\n",
      " [10  2  2]]\n"
     ]
    },
    {
     "data": {
      "image/png": "[encoded data removed]",
      "text/plain": [
       "<Figure size 640x480 with 1 Axes>"
      ]
     },
     "metadata": {},
     "output_type": "display_data"
    }
   ],
   "source": [
    "import matplotlib.pyplot as plt\n",
    "\n",
    "random_array = np.random.rand(3,3)\n",
    "print(random_array)\n",
    "\n",
    "rand_in_betn = np.random.randint(1,100,(3,3))\n",
    "print(rand_in_betn)\n",
    "rand_choice = np.random.choice([1,2,4,5,9,10],size=(3,3))\n",
    "print(rand_choice)\n",
    "\n",
    "# draw histogram from normal distribution\n",
    "mu, sigma = 0, 0.1 # mean and standard deviation\n",
    "rand_array_normal_distro = np.random.normal(mu,sigma,1000) # normal distribution\n",
    "count, bins, ignored = plt.hist(rand_array_normal_distro, 30, density=True)\n",
    "plt.plot(bins, 1/(sigma * np.sqrt(2 * np.pi)) *\n",
    "               np.exp( - (bins - mu)**2 / (2 * sigma**2) ),\n",
    "         linewidth=2, color='r')\n",
    "plt.show()"
   ]
  },
  {
   "cell_type": "markdown",
   "metadata": {},
   "source": [
    "### Reshaping Array using Reshape Method\n",
    "- Reshape array of size (m,n) to (m1,m2,n1), so that ``m1 x m2 x n1 = m x n``"
   ]
  },
  {
   "cell_type": "code",
   "execution_count": 6,
   "metadata": {},
   "outputs": [
    {
     "name": "stdout",
     "output_type": "stream",
     "text": [
      "Original array:\n",
      " [[1 2 3 4]\n",
      " [5 2 4 2]\n",
      " [1 2 0 1]]\n",
      "---------------\n",
      "Reshaped array:\n",
      " [[[1 2 3]\n",
      "  [4 5 2]]\n",
      "\n",
      " [[4 2 1]\n",
      "  [2 0 1]]]\n"
     ]
    }
   ],
   "source": [
    "# Reshaping 3X4 array to 2X2X3 array\n",
    "arr = np.array([[1, 2, 3, 4],\n",
    "                [5, 2, 4, 2],\n",
    "                [1, 2, 0, 1]])\n",
    "\n",
    "newarr = arr.reshape(2, 2, 3)\n",
    "\n",
    "\n",
    "print (\"Original array:\\n\", arr)\n",
    "print(\"---------------\")\n",
    "print (\"Reshaped array:\\n\", newarr)\n"
   ]
  },
  {
   "cell_type": "markdown",
   "metadata": {},
   "source": [
    "### Flatten Array\n",
    "-   Flatten method flattens array to one dimension and returns copy of collapsed array"
   ]
  },
  {
   "cell_type": "code",
   "execution_count": 7,
   "metadata": {},
   "outputs": [
    {
     "name": "stdout",
     "output_type": "stream",
     "text": [
      "Original array:\n",
      " [[1 2 3]\n",
      " [4 5 6]]\n",
      "Fattened array:\n",
      " [1 2 3 4 5 6]\n"
     ]
    }
   ],
   "source": [
    "# Flatten array\n",
    "arr = np.array([[1, 2, 3], [4, 5, 6]])\n",
    "flat_arr = arr.flatten()\n",
    "\n",
    "print (\"Original array:\\n\", arr)\n",
    "print (\"Fattened array:\\n\", flat_arr)"
   ]
  },
  {
   "cell_type": "markdown",
   "metadata": {},
   "source": [
    "### NumPy Array Indexing and Slicing\n",
    "#### **Basic Indexing**\n",
    "Indexing allows us to access the individual elements or subsets of data."
   ]
  },
  {
   "cell_type": "code",
   "execution_count": null,
   "metadata": {},
   "outputs": [
    {
     "name": "stdout",
     "output_type": "stream",
     "text": [
      "(6,)\n",
      "1\n",
      "6\n",
      "4\n",
      "print dimension of array\n",
      "2\n",
      "print shape of the array\n",
      "(3, 3)\n",
      "print total number of items\n",
      "9\n",
      "first row first element\n",
      "1\n",
      "last row last element\n",
      "8\n",
      "second row third Element\n",
      "6\n",
      "3d array\n",
      "3\n",
      "first row first element\n",
      "1\n",
      "last row last element\n",
      "6\n",
      "second row third Element\n",
      "5\n"
     ]
    }
   ],
   "source": [
    "# 1D Array Indexing\n",
    "arr = np.array([1,2,3,4,5,6])\n",
    "print(arr.shape)\n",
    "print(arr[0]) # first element\n",
    "print(arr[-1]) # last element\n",
    "print(arr[3]) # fourth Element\n",
    "\n",
    "# 2D Array Indexing\n",
    "num_2d_array = np.array([ \n",
    "                        [1,2,3],\n",
    "                        [4,5,6],\n",
    "                        [6,7,8] \n",
    "                    ])\n",
    "print(\"print dimension of array\")\n",
    "print(num_2d_array.ndim) # print dimension of array\n",
    "print(\"print shape of the array\")\n",
    "print(num_2d_array.shape) # print shape of the array\n",
    "print(\"print total number of items\")\n",
    "print(num_2d_array.size) # print total number of items\n",
    "\n",
    "print(\"first row first element\")\n",
    "print(num_2d_array[0,0]) # first row first element =>1\n",
    "print(\"last row last element\")\n",
    "print(num_2d_array[-1,-1]) # last row last element =>8\n",
    "print(\"second row third Element\")\n",
    "print(num_2d_array[1,2]) # second row third Element =>6\n",
    "\n",
    "\n",
    "# 3d Array\n",
    "print('3d array')\n",
    "three_d_array = np.array([\n",
    "    [\n",
    "        [1,2],[3,4]\n",
    "    ],\n",
    "    [\n",
    "        [4,5],[5,6]\n",
    "    ]\n",
    "]) \n",
    "print(three_d_array.ndim) # 3\n",
    "\n",
    "print(\"first row first element\")\n",
    "print(three_d_array[0,0,0]) # first row first element =>1\n",
    "print(\"last row last element\")\n",
    "print(three_d_array[-1,-1,-1]) # last row last element =>6\n",
    "print(\"second row third Element\")\n",
    "print(three_d_array[1,0,1]) # 5"
   ]
  },
  {
   "cell_type": "markdown",
   "metadata": {},
   "source": [
    "## Slicing in NumPy\n",
    "In NumPy we can access the portion of an array using the slice operator ``:`` </br>\n"
   ]
  },
  {
   "cell_type": "markdown",
   "metadata": {},
   "source": [
    "### 1-D Array Slicing\n",
    "Syntax: ``array[start:stop:step]``\n",
    "- ``start``: Index of the first element to be included in slice\n",
    "- ``stop``: index ot the last element (exclusive)\n",
    "- ``step``: step size between each element in the slice"
   ]
  },
  {
   "cell_type": "code",
   "execution_count": 9,
   "metadata": {},
   "outputs": [
    {
     "name": "stdout",
     "output_type": "stream",
     "text": [
      "[3 4 5 6]\n",
      "[1 3 5 7]\n",
      "[ 5  6  7  8 10 11]\n",
      "[1 2 3 4 5]\n",
      "[11  8  6  4  2]\n",
      "[100 100 100 100 100   6   7   8  10  11]\n"
     ]
    }
   ],
   "source": [
    "arr = np.array([1,2,3,4,5,6,7,8,10,11])\n",
    "\n",
    "# slice array from index 2-6 (6 exclusive)\n",
    "print(arr[2:6]) # [3,4,5,6] \n",
    "\n",
    "# slice array from 0 to 8 with a step size of 2\n",
    "print(arr[0:8:2]) # [1,3,5,7]\n",
    "\n",
    "# slice array from index 4 to last element\n",
    "print(arr[4:])\n",
    "\n",
    "# slice array from start to 5th index (5th index excluded)\n",
    "print(arr[:5]) \n",
    "\n",
    "# negative index\n",
    "print(arr[-1::-2]) # slice every second element form end to start\n",
    "\n",
    "# we can also modify the array with slicing\n",
    "\n",
    "arr[:5] = 100 # replace items from 0-5 with 100\n",
    "print(arr)"
   ]
  },
  {
   "cell_type": "markdown",
   "metadata": {},
   "source": [
    "### 2-D Array Slicing\n",
    "Syntax: ``array[row_start:row_stop:row_step, col_start:col_stop:col_step]``"
   ]
  },
  {
   "cell_type": "code",
   "execution_count": 10,
   "metadata": {},
   "outputs": [
    {
     "name": "stdout",
     "output_type": "stream",
     "text": [
      "2\n",
      "[[1 2 3]]\n",
      "[[1 2]\n",
      " [4 5]]\n"
     ]
    }
   ],
   "source": [
    "array_2d = np.array([\n",
    "    [1,2,3],\n",
    "    [4,5,6],\n",
    "    [7,8,9]\n",
    "])\n",
    "print(array_2d.ndim)\n",
    "\n",
    "# slice first row\n",
    "print(array_2d[0:1])\n",
    "\n",
    "# slice array from  first two rows and first two columns\n",
    "\n",
    "print(array_2d[0:2,0:2])\n"
   ]
  },
  {
   "cell_type": "markdown",
   "metadata": {},
   "source": [
    "### Boolean Array Indexing\n",
    "Boolean array indexing allows us to select elements from an array based on conditions. This technique is helpful when we need to filter elements based on certain condition"
   ]
  },
  {
   "cell_type": "code",
   "execution_count": 11,
   "metadata": {},
   "outputs": [
    {
     "name": "stdout",
     "output_type": "stream",
     "text": [
      "[20 25 30]\n",
      "[10 20 30]\n",
      "[ 5 10 15 99 99 99]\n",
      "[5 6 7 8 9]\n",
      "[[1 2 3]\n",
      " [4 0 0]\n",
      " [0 0 0]]\n"
     ]
    }
   ],
   "source": [
    "# Creating an array\n",
    "arr = np.array([5, 10, 15, 20, 25, 30])\n",
    "\n",
    "# Select elements greater than 15\n",
    "print(arr[arr > 15])  # Output: [20 25 30]\n",
    "\n",
    "# Select elements that are even\n",
    "print(arr[arr % 2 == 0])  # Output: [10 20 30]\n",
    "\n",
    "# Modifying elements that satisfy a condition\n",
    "arr[arr > 15] = 99\n",
    "print(arr)  # Output: [ 5 10 15 99 99 99]\n",
    "\n",
    "# Boolean indexing on a 2-dimensional array\n",
    "arr2d = np.array([[1, 2, 3], [4, 5, 6], [7, 8, 9]])\n",
    "\n",
    "# Extract elements greater than 4\n",
    "print(arr2d[arr2d > 4])\n",
    "# Output: [5 6 7 8 9]\n",
    "\n",
    "# Setting elements greater than 4 to zero\n",
    "arr2d[arr2d > 4] = 0\n",
    "print(arr2d)\n",
    "# Output:\n",
    "# [[1 2 3]\n",
    "#  [4 0 0]\n",
    "#  [0 0 0]]\n"
   ]
  },
  {
   "cell_type": "markdown",
   "metadata": {},
   "source": [
    "## NumPy Operations\n",
    "- **NumPy Arithmetic Array Operations**\n",
    "- **NumPy Array Functions**\n",
    "- **NumPy Comparison/Logical Operations**\n",
    "- **NumPy Math Functions**\n",
    "- **NumPy Constants**\n",
    "- **NumPy Statistical Functions**"
   ]
  },
  {
   "cell_type": "markdown",
   "metadata": {},
   "source": [
    "### NumPy Arithmetic Operations\n",
    "- add()\n",
    "- subtract()\n",
    "- multiply()\n",
    "- divide()\n",
    "- power()\n",
    "- mod()"
   ]
  },
  {
   "cell_type": "code",
   "execution_count": 12,
   "metadata": {},
   "outputs": [
    {
     "name": "stdout",
     "output_type": "stream",
     "text": [
      "++++++++++ Element Wise Addition +++++++++++++++++++++++++++++\n",
      " + operator: [ 3  7 11 15]\n",
      " add() function: [ 3  7 11 15]\n",
      "----------------- Element Wise Subtraction ------------------\n",
      " - operator: [-1 -1 -1 -1]\n",
      " subtract() function: [-1 -1 -1 -1]\n",
      "********************* Element Wise Multiplication *************************\n",
      " * operator: [ 2 12 30 56]\n",
      " multiply() function: [ 2 12 30 56]\n",
      "/////////////////////// Element Wise Division /////////////////////////////////\n",
      "[0.5        0.75       0.83333333 0.875     ]\n",
      "[0.5        0.75       0.83333333 0.875     ]\n",
      "eeeeeeeeeeeeeeeeeeeee Element Wise Power (Exponential) eeeeeeeeeeeeeeeeeeeeeeeeeeeeeeeeee\n",
      "[ 1  9 25 49]\n",
      "[ 1  9 25 49]\n",
      "%%%%%%%%%%% NumPy Array Element-Wise Modulus %%%%%%%%%%%%%%%%%%%%%%\n",
      "[1 3 5 7]\n",
      "[1 3 5 7]\n"
     ]
    }
   ],
   "source": [
    "first_array = np.array([1, 3, 5, 7])\n",
    "second_array = np.array([2, 4, 6, 8])\n",
    "\n",
    "\"\"\"+++++++++++Element Wise Addition++++++++++++++++++++++++++++++\"\"\"\n",
    "print(\"++++++++++ Element Wise Addition +++++++++++++++++++++++++++++\")\n",
    "#  + operator\n",
    "result1 = first_array + second_array\n",
    "print(\" + operator:\",result1) \n",
    "\n",
    "#  add() function\n",
    "result2 = np.add(first_array, second_array)\n",
    "print(\" add() function:\",result2) \n",
    "\n",
    "\"\"\"------------------Element Wise Subtraction ------------------\"\"\"\n",
    "print(\"----------------- Element Wise Subtraction ------------------\")\n",
    "#  - operator\n",
    "result1 = first_array - second_array\n",
    "print(\" - operator:\",result1) \n",
    "\n",
    "#  subtract() function\n",
    "result2 = np.subtract(first_array, second_array)\n",
    "print(\" subtract() function:\",result2) \n",
    "\n",
    "\n",
    "\"\"\"********************* Element Wise Multiplication *************************\"\"\"\n",
    "print(\"********************* Element Wise Multiplication *************************\")\n",
    "#  * operator\n",
    "result1 = first_array * second_array\n",
    "print(\" * operator:\",result1) \n",
    "\n",
    "#  multiply() function\n",
    "result2 = np.multiply(first_array, second_array)\n",
    "print(\" multiply() function:\",result2) \n",
    "\n",
    "\n",
    "\"\"\"/////////////////////// Element Wise Division /////////////////////////////////\"\"\"\n",
    "print(\"/////////////////////// Element Wise Division /////////////////////////////////\")\n",
    "#  / operator\n",
    "result1 = first_array / second_array\n",
    "print(result1) \n",
    "\n",
    "#  divide() function\n",
    "result2 = np.divide(first_array, second_array)\n",
    "print(result2) \n",
    "\n",
    "\"\"\"eeeeeeeeeeeeeee Element Wise Power (Exponential) eeeeeeeeeeeeeeeeeeeeeeeeeeeeeeeeeeeeeeeeeeeee\"\"\"\n",
    "print(\"eeeeeeeeeeeeeeeeeeeee Element Wise Power (Exponential) eeeeeeeeeeeeeeeeeeeeeeeeeeeeeeeeee\")\n",
    "# ** operator\n",
    "result1 = first_array ** 2\n",
    "print(result1) \n",
    "\n",
    "# power() function\n",
    "result2 = np.power(first_array, 2)\n",
    "print(result2) \n",
    "\n",
    "\"\"\"%%%%%%%%%%% NumPy Array Element-Wise Modulus %%%%%%%%%%%%%%%%%%%%%%\"\"\"\n",
    "print(\"%%%%%%%%%%% NumPy Array Element-Wise Modulus %%%%%%%%%%%%%%%%%%%%%%\")\n",
    "# using the % operator\n",
    "result1 = first_array % second_array\n",
    "print(result1) \n",
    "\n",
    "# mod() function\n",
    "result2 = np.mod(first_array, second_array)\n",
    "print(result2)\n"
   ]
  },
  {
   "cell_type": "markdown",
   "metadata": {},
   "source": [
    "### NumPy Broadcasting\n",
    "- Broadcasting  in NumPy allows it to perform arithmetic operations on arrays with different shapes\n",
    "![broadcasting](./assets/broadcasting_1.png)\n",
    "\n",
    "![broadcasting-1](./assets/array-broadcasting.png)"
   ]
  },
  {
   "cell_type": "markdown",
   "metadata": {},
   "source": [
    "## NumPy Array Functions\n",
    "NumPy has various built-in functions for various purposes\n",
    "- **Array Creation Functions**: ``np.array()``, ``np.zeros()``, ``np.ones()``, ``np.empty()`` etc\n",
    "- **Manipulation Functions**: ``np.reshape()``, ``np.transpose()``\n",
    "- **Mathematical Functions**: ``np.add()``, ``np.subtract()``, ``np.sqrt()``, ``np.power()``\n",
    "- **Statistical Functions**: ``np.median()``, ``np.mean()``, ``np.std()``, ``np.var()``\t"
   ]
  },
  {
   "cell_type": "markdown",
   "metadata": {},
   "source": [
    "### Array Manipulation Functions\n"
   ]
  },
  {
   "cell_type": "code",
   "execution_count": 13,
   "metadata": {},
   "outputs": [
    {
     "name": "stdout",
     "output_type": "stream",
     "text": [
      "[[1 2 3]\n",
      " [4 5 6]\n",
      " [7 8 9]]\n",
      "[[1 4 7]\n",
      " [2 5 8]\n",
      " [3 6 9]]\n"
     ]
    }
   ],
   "source": [
    "numbers = np.array([1, 2,3,4, 5,6, 7,8, 9])\n",
    "\n",
    "# reshape the 1D array into a 2D array\n",
    "reshaped_array = np.reshape(numbers, (3, 3)) # 3 x 3 = 9\n",
    "print(reshaped_array)  \n",
    "\n",
    "# transpose the 2D array\n",
    "transposed_array = np.transpose(reshaped_array)\n",
    "print(transposed_array)"
   ]
  },
  {
   "cell_type": "markdown",
   "metadata": {},
   "source": [
    "### NumPy Mathematical and Statistical Functions"
   ]
  },
  {
   "cell_type": "code",
   "execution_count": 14,
   "metadata": {},
   "outputs": [
    {
     "name": "stdout",
     "output_type": "stream",
     "text": [
      "^^^^^^^^^^^^ Mathematical Functions ^^^^^^^^^^^^^\n",
      "[1.         1.41421356 1.73205081 2.        ]\n",
      "[1. 2. 3. 4.]\n",
      "**************** Statistical Functions *****************\n",
      "Mean: 61.3\n",
      "Median: 60.5\n",
      "Minimum marks: 10\n",
      "Maximum marks: 100\n"
     ]
    }
   ],
   "source": [
    "numbers = [1,2,3,4]\n",
    "\n",
    "\"\"\"^^^^^^^^^^^^ Mathematical Functions ^^^^^^^^^^^^^^^^^\"\"\"\n",
    "print(\"^^^^^^^^^^^^ Mathematical Functions ^^^^^^^^^^^^^\")\n",
    "sqrt_numbers = np.sqrt(numbers)\n",
    "print(sqrt_numbers)\n",
    "square_numbers = np.square(sqrt_numbers)\n",
    "print(square_numbers)\n",
    "\n",
    "\n",
    "\"\"\"**************** Statistical Functions *****************\"\"\"\n",
    "print(\"**************** Statistical Functions *****************\")\n",
    "\n",
    "students_marks = np.array([30,50,67,10,100,99,98,71,54,34])\n",
    "mean_marks = np.mean(students_marks)\n",
    "print(\"Mean:\",mean_marks)\n",
    "\n",
    "# compute the median of marks\n",
    "median_marks = np.median(students_marks)\n",
    "print(\"Median:\",median_marks)\n",
    "\n",
    "# find the minimum and maximum marks\n",
    "min_marks = np.min(students_marks)\n",
    "print(\"Minimum marks:\", min_marks)\n",
    "\n",
    "max_marks = np.max(students_marks)\n",
    "print(\"Maximum marks:\", max_marks)"
   ]
  },
  {
   "cell_type": "markdown",
   "metadata": {},
   "source": [
    "## NumPy Matrix Operations\n",
    "- Matrix Multiplication ``np.matmul()``\n",
    "- Dot Product ``np.dot()``\n",
    "- Cross Product ``np.cross()``\n",
    "- Transpose ``np.transpose``\n",
    "- Inverse ``np.linalg.inverse()``\n",
    "- Determinant ``linalg.det()`` linalg=>Linear Algebra\n",
    "- Norm ``np.linalg.norm()``\n",
    "- Trace ``np.linalg.trace()``\n"
   ]
  },
  {
   "cell_type": "code",
   "execution_count": 17,
   "metadata": {},
   "outputs": [
    {
     "name": "stdout",
     "output_type": "stream",
     "text": [
      "[[19 28]\n",
      " [43 64]]\n"
     ]
    },
    {
     "data": {
      "text/plain": [
       "32"
      ]
     },
     "execution_count": 17,
     "metadata": {},
     "output_type": "execute_result"
    }
   ],
   "source": [
    "mat_1 = [\n",
    "            [1,2,3],\n",
    "            [4,5,6]\n",
    "        ] # 2,3\n",
    "mat_2 = [\n",
    "    [1,2],\n",
    "    [3,4],\n",
    "    [4,6]\n",
    "] # 3,2\n",
    "\n",
    "# output row_1, col_2\n",
    "\n",
    "result = np.matmul(mat_1,mat_2)\n",
    "print(result)\n",
    "\n",
    "vec1 = [1,2,3]\n",
    "vec2 = [4,5,6]\n",
    "dot_prod = np.dot(vec1,vec2)\n",
    "dot_prod"
   ]
  },
  {
   "cell_type": "markdown",
   "metadata": {},
   "source": [
    "### Misc. Mathematical Functional\n",
    "- Trigonometric : sine(),cos(),tan(),cot(),sec(),cosec(), tangent()\n",
    "- Hyperbolic: sineh(),cosh(),tanh() etc\n",
    "- Logarithmic: log(), exp(), log10()\n",
    "- round(), floor(),ceil(), absolute(), "
   ]
  },
  {
   "cell_type": "code",
   "execution_count": null,
   "metadata": {},
   "outputs": [
    {
     "data": {
      "image/png": "[encoded data removed]",
      "text/plain": [
       "<Figure size 1000x500 with 1 Axes>"
      ]
     },
     "metadata": {},
     "output_type": "display_data"
    }
   ],
   "source": [
    "import numpy as np\n",
    "import matplotlib.pyplot as plt\n",
    "\n",
    "# Generate x values\n",
    "x = np.linspace(-2*np.pi, 2 * np.pi, 100)\n",
    "\n",
    "# Calculate y values \n",
    "y_sin = np.sin(x)\n",
    "y_sin_opp = np.sin(x + np.pi)  # Shifted by PI to create opposite phase\n",
    "\n",
    "# sin(x+pi) = -sin(x) s so resultant wave will be zero\n",
    "\n",
    "# Create the plot\n",
    "plt.figure(figsize=(10, 5))\n",
    "\n",
    "# Plot the sine curve and its opposite phase\n",
    "plt.plot(x, y_sin, label='Sine Curve', color='blue')\n",
    "# out of phase (180 degree)\n",
    "plt.plot(x, y_sin_opp, label='Opposite Phase Sine Curve', color='red')\n",
    "\n",
    "# phase shift by PI/2 \n",
    "plt.plot(x, np.sin(x+(np.pi/2)), label='Phase Shift by PI/2 Sine Curve', color='green')\n",
    "\n",
    "\n",
    "# Add the horizontal and vertical axis lines\n",
    "plt.axhline(0, color='black', linewidth=1)  # Horizontal axis line at y=0\n",
    "plt.axvline(0, color='black', linewidth=1)  # Vertical axis line at x=0\n",
    "\n",
    "# Add labels and title\n",
    "plt.xlabel('x values')\n",
    "plt.ylabel('sin(x)')\n",
    "plt.title('Sine Curve and Opposite Phase Sine Curve')\n",
    "plt.legend()\n",
    "plt.grid(True, which='both', axis='both')\n",
    "\n",
    "# Display the plot\n",
    "plt.show()\n"
   ]
  },
  {
   "cell_type": "code",
   "execution_count": null,
   "metadata": {},
   "outputs": [],
   "source": []
  }
 ],
 "metadata": {
  "kernelspec": {
   "display_name": "base",
   "language": "python",
   "name": "python3"
  },
  "language_info": {
   "codemirror_mode": {
    "name": "ipython",
    "version": 3
   },
   "file_extension": ".py",
   "mimetype": "text/x-python",
   "name": "python",
   "nbconvert_exporter": "python",
   "pygments_lexer": "ipython3",
   "version": "3.12.4"
  }
 },
 "nbformat": 4,
 "nbformat_minor": 2
}
