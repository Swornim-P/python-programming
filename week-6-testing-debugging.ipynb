{
 "cells": [
  {
   "cell_type": "markdown",
   "metadata": {},
   "source": [
    "### functions"
   ]
  },
  {
   "cell_type": "code",
   "execution_count": null,
   "metadata": {},
   "outputs": [],
   "source": [
    "\n",
    "def factorial(n):\n",
    "    result = 1\n",
    "    for i in range(1, n + 1):\n",
    "        result *= i\n",
    "    return result\n",
    "\n",
    "def sine(x, terms=10):\n",
    "    \"\"\"Calculate sine of x using Taylor series expansion.\n",
    "    sin(x) = x - (x^3/3!) + (x^5/5!) - ..........\n",
    "    term(n) = (-1^n) * x ^(2n+1) / (2n+1)!  \n",
    "    \"\"\"\n",
    "    sine_sum = 0\n",
    "    for n in range(0,terms):\n",
    "        sign = (-1) ** n\n",
    "        sine_sum += sign * (x ** (2 * n + 1) ) / factorial(2 * n + 1)\n",
    "    return sine_sum\n",
    "\n",
    "def cosine(x, terms=10):\n",
    "    \"\"\"Calculate cosine of x using Taylor series expansion.\n",
    "    cos(x) = 1 - (x**2/2!)+(x**4/4!)-........\n",
    "    term(n) = (-1^n) * x ^2n / 2n!\n",
    "    \"\"\"\n",
    "    cosine_sum = 0\n",
    "    for n in range(0,terms):\n",
    "        sign = (-1) ** n\n",
    "        cosine_sum += sign * (x ** (2 * n)) / factorial(2 * n)\n",
    "    return  cosine_sum\n",
    "\n",
    "def tangent(x, terms=10):\n",
    "    \"\"\"Calculate tangent of x as sine(x) / cosine(x).\"\"\"\n",
    "    sin_x = sine(x, terms)\n",
    "    cos_x = cosine(x, terms)\n",
    "    if cos_x == 0:\n",
    "        raise ValueError(\"Tangent is undefined for this angle.\")\n",
    "    return sin_x / cos_x\n"
   ]
  },
  {
   "cell_type": "markdown",
   "metadata": {},
   "source": [
    "### Test Cases"
   ]
  },
  {
   "cell_type": "code",
   "execution_count": null,
   "metadata": {},
   "outputs": [
    {
     "data": {
      "text/plain": [
       "<module 'pytest' from '/home/tek/.local/lib/python3.10/site-packages/pytest/__init__.py'>"
      ]
     },
     "execution_count": 3,
     "metadata": {},
     "output_type": "execute_result"
    }
   ],
   "source": [
    "import mathematics.trigonometry as trig\n",
    "import math\n",
    "\n",
    "class TestTrigonometry:\n",
    "\n",
    "    def test_factorial(self):\n",
    "        # Test factorial for some common inputs\n",
    "        assert trig.factorial(0) == 1  # 0! = 1\n",
    "        assert trig.factorial(1) == 1  # 1! = 1\n",
    "        assert trig.factorial(5) == 120  # 5! = 120\n",
    "        assert trig.factorial(7) == 5040  # 7! = 5040\n",
    "\n",
    "    def test_sine(self):\n",
    "        # Test sine for some common angles\n",
    "        assert math.isclose(trig.sine(0), 0, rel_tol=1e-5)  # sin(0) = 0\n",
    "        assert math.isclose(trig.sine(math.pi / 2), 1, rel_tol=1e-5)  # sin(pi/2) = 1\n",
    "        assert math.isclose(trig.sine(math.pi), 0, rel_tol=1e-5)  # sin(pi) = 0\n",
    "        assert math.isclose(trig.sine(-math.pi / 2), -1, rel_tol=1e-5)  # sin(-pi/2) = -1\n",
    "\n",
    "    def test_cosine(self):\n",
    "        # Test cosine for some common angles\n",
    "        assert math.isclose(trig.cosine(0), 1, rel_tol=1e-5)  # cos(0) = 1\n",
    "        assert math.isclose(trig.cosine(math.pi / 2), 0, rel_tol=1e-5)  # cos(pi/2) = 0\n",
    "        assert math.isclose(trig.cosine(math.pi), -1, rel_tol=1e-5)  # cos(pi) = -1\n",
    "        assert math.isclose(trig.cosine(-math.pi / 2), 0, rel_tol=1e-5)  # cos(-pi/2) = 0\n",
    "\n",
    "    def test_tangent(self):\n",
    "        # Test tangent for some common angles\n",
    "        assert math.isclose(trig.tangent(0), 0, rel_tol=1e-5)  # tan(0) = 0\n",
    "        assert math.isclose(trig.tangent(math.pi / 4), 1, rel_tol=1e-5)  # tan(pi/4) = 1\n",
    "        assert math.isclose(trig.tangent(-math.pi / 4), -1, rel_tol=1e-5)  # tan(-pi/4) = -1\n",
    "\n",
    "        # Test for undefined tangent (should raise ValueError)\n",
    "        try:\n",
    "            trig.tangent(math.pi / 2)\n",
    "        except ValueError as e:\n",
    "            assert str(e) == \"Tangent is undefined for this angle.\"\n",
    "        else:\n",
    "            assert False, \"Expected ValueError for tangent(math.pi / 2)\"\n"
   ]
  },
  {
   "cell_type": "code",
   "execution_count": null,
   "metadata": {},
   "outputs": [
    {
     "data": {
      "text/plain": [
       "<module 'pytest' from '/home/tek/.local/lib/python3.10/site-packages/pytest/__init__.py'>"
      ]
     },
     "execution_count": 2,
     "metadata": {},
     "output_type": "execute_result"
    }
   ],
   "source": []
  },
  {
   "cell_type": "code",
   "execution_count": null,
   "metadata": {},
   "outputs": [],
   "source": []
  }
 ],
 "metadata": {
  "kernelspec": {
   "display_name": "Python 3",
   "language": "python",
   "name": "python3"
  },
  "language_info": {
   "codemirror_mode": {
    "name": "ipython",
    "version": 3
   },
   "file_extension": ".py",
   "mimetype": "text/x-python",
   "name": "python",
   "nbconvert_exporter": "python",
   "pygments_lexer": "ipython3",
   "version": "3.10.12"
  }
 },
 "nbformat": 4,
 "nbformat_minor": 2
}
