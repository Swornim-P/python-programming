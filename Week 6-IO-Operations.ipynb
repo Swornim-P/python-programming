{
 "cells": [
  {
   "cell_type": "markdown",
   "metadata": {},
   "source": [
    "# Python I/O Operations\n",
    "**I/O (Input/Output)** operations are essential for interacting with files, devices, or streams in Python. Python provides a robust set of tools and libraries to handle I/O efficiently. These operations primarily fall into two categories:\n",
    "\n",
    "1. File I/O: Reading/Writing Files on FileSystem\n",
    "2. Standard I/O: Interacting with standard input (stdin), standard output (stdout), and standard error (stderr)."
   ]
  },
  {
   "cell_type": "markdown",
   "metadata": {},
   "source": [
    "## File I/O: Reading/Writing Files on FileSystem\n",
    "- File I/O allows reading data from the files and writing data to files. \n",
    "- Python provides the ``open()`` function to work with File I/O"
   ]
  },
  {
   "cell_type": "markdown",
   "metadata": {},
   "source": [
    "### Open a File from FileSystem\n",
    "``file = open(filename, mode, buffering)``\n",
    "- filename: Name of the file with full path that we want to open\n",
    "- mode: Operation mode (r,w,x,a,b,+)\n",
    "- buffering: Controls buffers, but python controls the buffering\n",
    "\n",
    "### File Operations Table\n",
    "| Mode | Description                                   |\n",
    "|------|-----------------------------------------------|\n",
    "| `r`  | Read-only mode.   |\n",
    "| `w`  | Write mode. Creates/truncates the file.       |\n",
    "| `x`  | Exclusive creation. Fails if the file exists. |\n",
    "| `a`  | Append mode. Writes data at the end.          |\n",
    "| `b`  | Binary mode. Used with `rb`, `wb`.            |\n",
    "| `t`  | Text mode (default).                          |\n",
    "| `+`  | Update mode (read and write).                 |\n"
   ]
  },
  {
   "cell_type": "markdown",
   "metadata": {},
   "source": [
    "### Read a text file and assign the content to a python variable"
   ]
  },
  {
   "cell_type": "code",
   "execution_count": 4,
   "metadata": {},
   "outputs": [
    {
     "name": "stdout",
     "output_type": "stream",
     "text": [
      "TXT test file\n",
      "Purpose: Provide example of this file type\n",
      "Document file type: TXT\n",
      "Version: 1.0\n",
      "Remark:\n",
      "\n",
      "Example content:\n",
      "The names \"John Doe\" for males, \"Jane Doe\" or \"Jane Roe\" for females, or \"Jonnie Doe\" and \"Janie Doe\" for children, or just \"Doe\" non-gender-specifically are used as placeholder names for a party whose true identity is unknown or must be withheld in a legal action, case, or discussion. The names are also used to refer to acorpse or hospital patient whose identity is unknown. This practice is widely used in the United States and Canada, but is rarely used in other English-speaking countries including the United Kingdom itself, from where the use of \"John Doe\" in a legal context originates. The names Joe Bloggs or John Smith are used in the UK instead, as well as in Australia and New Zealand.\n",
      "\n",
      "John Doe is sometimes used to refer to a typical male in other contexts as well, in a similar manner to John Q. Public, known in Great Britain as Joe Public, John Smith or Joe Bloggs. For example, the first name listed on a form is often John Doe, along with a fictional address or other fictional information to provide an example of how to fill in the form. The name is also used frequently in popular culture, for example in the Frank Capra film Meet John Doe. John Doe was also the name of a 2002 American television series.\n",
      "\n",
      "Similarly, a child or baby whose identity is unknown may be referred to as Baby Doe. A notorious murder case in Kansas City, Missouri, referred to the baby victim as Precious Doe. Other unidentified female murder victims are Cali Doe and Princess Doe. Additional persons may be called James Doe, Judy Doe, etc. However, to avoid possible confusion, if two anonymous or unknown parties are cited in a specific case or action, the surnames Doe and Roe may be used simultaneously; for example, \"John Doe v. Jane Roe\". If several anonymous parties are referenced, they may simply be labelled John Doe #1, John Doe #2, etc. (the U.S. Operation Delego cited 21 (numbered) \"John Doe\"s) or labelled with other variants of Doe / Roe / Poe / etc. Other early alternatives such as John Stiles and Richard Miles are now rarely used, and Mary Major has been used in some American federal cases.\n",
      "\n",
      "\n",
      "\n",
      "File created by https://www.online-convert.com\n",
      "More example files: https://www.online-convert.com/file-type\n",
      "Text of Example content: Wikipedia (https://en.wikipedia.org/wiki/John_Doe)\n",
      "License: Attribution-ShareAlike 4.0 (https://creativecommons.org/licenses/by-sa/4.0/)\n",
      "\n",
      "Feel free to use and share the file according to the license above.\n"
     ]
    }
   ],
   "source": [
    "\n",
    "with open('data/test.txt','r') as text_file:\n",
    "    text_content = text_file.read()\n",
    "\n",
    "print(text_content)"
   ]
  },
  {
   "cell_type": "markdown",
   "metadata": {},
   "source": [
    "### Read Text file Line By Line"
   ]
  },
  {
   "cell_type": "code",
   "execution_count": 20,
   "metadata": {},
   "outputs": [
    {
     "name": "stdout",
     "output_type": "stream",
     "text": [
      "TXT test file\n",
      "Purpose: Provide example of this file type\n",
      "Document file type: TXT\n",
      "Version: 1.0\n",
      "Remark:\n",
      "\n",
      "Example content:\n",
      "The names \"John Doe\" for males, \"Jane Doe\" or \"Jane Roe\" for females, or \"Jonnie Doe\" and \"Janie Doe\" for children, or just \"Doe\" non-gender-specifically are used as placeholder names for a party whose true identity is unknown or must be withheld in a legal action, case, or discussion. The names are also used to refer to acorpse or hospital patient whose identity is unknown. This practice is widely used in the United States and Canada, but is rarely used in other English-speaking countries including the United Kingdom itself, from where the use of \"John Doe\" in a legal context originates. The names Joe Bloggs or John Smith are used in the UK instead, as well as in Australia and New Zealand.\n",
      "\n",
      "John Doe is sometimes used to refer to a typical male in other contexts as well, in a similar manner to John Q. Public, known in Great Britain as Joe Public, John Smith or Joe Bloggs. For example, the first name listed on a form is often John Doe, along with a fictional address or other fictional information to provide an example of how to fill in the form. The name is also used frequently in popular culture, for example in the Frank Capra film Meet John Doe. John Doe was also the name of a 2002 American television series.\n",
      "\n",
      "Similarly, a child or baby whose identity is unknown may be referred to as Baby Doe. A notorious murder case in Kansas City, Missouri, referred to the baby victim as Precious Doe. Other unidentified female murder victims are Cali Doe and Princess Doe. Additional persons may be called James Doe, Judy Doe, etc. However, to avoid possible confusion, if two anonymous or unknown parties are cited in a specific case or action, the surnames Doe and Roe may be used simultaneously; for example, \"John Doe v. Jane Roe\". If several anonymous parties are referenced, they may simply be labelled John Doe #1, John Doe #2, etc. (the U.S. Operation Delego cited 21 (numbered) \"John Doe\"s) or labelled with other variants of Doe / Roe / Poe / etc. Other early alternatives such as John Stiles and Richard Miles are now rarely used, and Mary Major has been used in some American federal cases.\n",
      "\n",
      "\n",
      "\n",
      "File created by https://www.online-convert.com\n",
      "More example files: https://www.online-convert.com/file-type\n",
      "Text of Example content: Wikipedia (https://en.wikipedia.org/wiki/John_Doe)\n",
      "License: Attribution-ShareAlike 4.0 (https://creativecommons.org/licenses/by-sa/4.0/)\n",
      "\n",
      "Feel free to use and share the file according to the license above.['TXT test file\\n', 'Purpose: Provide example of this file type\\n', 'Document file type: TXT\\n', 'Version: 1.0\\n', 'Remark:\\n', '\\n', 'Example content:\\n', 'The names \"John Doe\" for males, \"Jane Doe\" or \"Jane Roe\" for females, or \"Jonnie Doe\" and \"Janie Doe\" for children, or just \"Doe\" non-gender-specifically are used as placeholder names for a party whose true identity is unknown or must be withheld in a legal action, case, or discussion. The names are also used to refer to acorpse or hospital patient whose identity is unknown. This practice is widely used in the United States and Canada, but is rarely used in other English-speaking countries including the United Kingdom itself, from where the use of \"John Doe\" in a legal context originates. The names Joe Bloggs or John Smith are used in the UK instead, as well as in Australia and New Zealand.\\n', '\\n', 'John Doe is sometimes used to refer to a typical male in other contexts as well, in a similar manner to John Q. Public, known in Great Britain as Joe Public, John Smith or Joe Bloggs. For example, the first name listed on a form is often John Doe, along with a fictional address or other fictional information to provide an example of how to fill in the form. The name is also used frequently in popular culture, for example in the Frank Capra film Meet John Doe. John Doe was also the name of a 2002 American television series.\\n', '\\n', 'Similarly, a child or baby whose identity is unknown may be referred to as Baby Doe. A notorious murder case in Kansas City, Missouri, referred to the baby victim as Precious Doe. Other unidentified female murder victims are Cali Doe and Princess Doe. Additional persons may be called James Doe, Judy Doe, etc. However, to avoid possible confusion, if two anonymous or unknown parties are cited in a specific case or action, the surnames Doe and Roe may be used simultaneously; for example, \"John Doe v. Jane Roe\". If several anonymous parties are referenced, they may simply be labelled John Doe #1, John Doe #2, etc. (the U.S. Operation Delego cited 21 (numbered) \"John Doe\"s) or labelled with other variants of Doe / Roe / Poe / etc. Other early alternatives such as John Stiles and Richard Miles are now rarely used, and Mary Major has been used in some American federal cases.\\n', '\\n', '\\n', '\\n', 'File created by https://www.online-convert.com\\n', 'More example files: https://www.online-convert.com/file-type\\n', 'Text of Example content: Wikipedia (https://en.wikipedia.org/wiki/John_Doe)\\n', 'License: Attribution-ShareAlike 4.0 (https://creativecommons.org/licenses/by-sa/4.0/)\\n', '\\n', 'Feel free to use and share the file according to the license above.']\n"
     ]
    }
   ],
   "source": [
    "# read text content line by line using (nextline()) and while loop\n",
    "with open('data/test.txt', 'r') as text_file:\n",
    "    while line:  # As long as there is a line\n",
    "        print(line, end='') \n",
    "        line = text_file.readline()  # Read the next line\n",
    "\n",
    "# using for loop\n",
    "with open('data/test.txt', 'r') as text_file: \n",
    "    for line in text_file:\n",
    "        print(line, end='') \n",
    "\n",
    "# get all lines in a list using readlines()\n",
    "with open('data/test.txt','r') as text_file:\n",
    "    lines = text_file.readlines()\n",
    "    print(lines)"
   ]
  },
  {
   "cell_type": "markdown",
   "metadata": {},
   "source": [
    "### Writing to Files: Open file for writing using open('file','w')\n",
    "- ``write(content)`` Write at once\n",
    "- ``writelines([line1,line2])``\n",
    "- Append to files: Open file with ``open(file,'a')``"
   ]
  },
  {
   "cell_type": "markdown",
   "metadata": {},
   "source": []
  },
  {
   "cell_type": "code",
   "execution_count": 23,
   "metadata": {},
   "outputs": [],
   "source": [
    "# Write whole content at once\n",
    "with open('data/new-text-file.txt','w') as new_file:\n",
    "    new_file.write('Hello World!')\n",
    "\n",
    "#write line by line\n",
    "with open('data/new-text-file-1.txt','w') as new_file:\n",
    "    new_file.writelines(['Hello\\n','World\\n'])\n",
    "\n",
    "with open('data/new-text-file-1.txt', 'a') as file:\n",
    "    file.write('This should append on file-1.txt\\n')"
   ]
  },
  {
   "cell_type": "markdown",
   "metadata": {},
   "source": [
    "### Python Handling Directories\n",
    "The ``os`` module provides the various functions for working with Directories\n",
    "- **Create New Directory**: \n",
    "    - ``os.mkdir(dirname)`` create single directory\n",
    "    - ``os.mkdirs(parent-dir/child-dir)`` create dir-1 and inside it create dir2\n",
    "-  **Check if a Directory Exists**\n",
    "    - ``os.path.exists(path)``: Returns True if the path exists (both for file or  directory)\n",
    "    - ``os.path.isdir(path)``: Returns True if the path is a directory\n",
    "- **List Files and Subdirectories in a Directory**\n",
    "    - ``os.listdir(dirname)``: Returns list of all directory and files inside the given directory\n",
    "- **Remove a Directory**\n",
    "    -  Remove an empty directory: ``os.rmdir('new_directory')``\n",
    "\n",
    "- **Check Permissions**\n",
    "\n",
    "\n",
    "| Function             | Description                                               |\n",
    "|----------------------|-----------------------------------------------------------|\n",
    "| `os.mkdir(path)`     | Creates a directory.                                      |\n",
    "| `os.makedirs(path)`  | Creates intermediate directories.                         |\n",
    "| `os.path.exists(path)` | Checks if a path exists (file or directory).             |\n",
    "| `os.path.isdir(path)` | Checks if a path is a directory.                          |\n",
    "| `os.listdir(path)`   | Lists contents of a directory.                            |\n",
    "| `os.chdir(path)`     | Changes the current working directory.                    |\n",
    "| `os.rmdir(path)`     | Removes an empty directory.                               |\n",
    "| `os.removedirs(path)` | Removes intermediate empty directories.                  |\n",
    "| `os.rename(src, dst)` | Renames or moves a directory.                             |\n",
    "| `os.stat(path)`      | Returns the status of a file or directory (permissions, size, etc.). |\n",
    "| `os.access(path, mode)` | Checks permissions of a directory.                      |\n"
   ]
  },
  {
   "cell_type": "code",
   "execution_count": null,
   "metadata": {},
   "outputs": [
    {
     "name": "stdout",
     "output_type": "stream",
     "text": [
      "Directory exists.\n",
      "It's a directory.\n",
      "[]\n"
     ]
    },
    {
     "ename": "PermissionError",
     "evalue": "[WinError 5] Access is denied: 'test-dir'",
     "output_type": "error",
     "traceback": [
      "\u001b[1;31m---------------------------------------------------------------------------\u001b[0m",
      "\u001b[1;31mPermissionError\u001b[0m                           Traceback (most recent call last)",
      "Cell \u001b[1;32mIn[29], line 24\u001b[0m\n\u001b[0;32m     20\u001b[0m \u001b[38;5;28mprint\u001b[39m(contents)\n\u001b[0;32m     23\u001b[0m \u001b[38;5;66;03m# remove dir\u001b[39;00m\n\u001b[1;32m---> 24\u001b[0m os\u001b[38;5;241m.\u001b[39mrmdir(\u001b[38;5;124m'\u001b[39m\u001b[38;5;124mtest-dir\u001b[39m\u001b[38;5;124m'\u001b[39m)\n\u001b[0;32m     26\u001b[0m \u001b[38;5;66;03m# check permissions\u001b[39;00m\n\u001b[0;32m     28\u001b[0m \u001b[38;5;28;01mimport\u001b[39;00m \u001b[38;5;21;01mos\u001b[39;00m\n",
      "\u001b[1;31mPermissionError\u001b[0m: [WinError 5] Access is denied: 'test-dir'"
     ]
    }
   ],
   "source": [
    "import os\n",
    "\n",
    "### Create New Directories\n",
    "os.mkdir('test-dir')\n",
    "# Creating nested directories\n",
    "os.makedirs('p-dir/ch-dir')\n",
    "# Check if the directory exists\n",
    "if os.path.exists('test-dir'):\n",
    "    print(\"Directory exists.\")\n",
    "else:\n",
    "    print(\"Directory does not exist.\")\n",
    "\n",
    "if os.path.isdir('test-dir'):\n",
    "    print(\"It's a directory.\")\n",
    "else:\n",
    "    print(\"It's not a directory.\")\n",
    "\n",
    "\n",
    "# List contents of the directory\n",
    "contents = os.listdir('test-dir')\n",
    "print(contents)\n",
    "\n",
    "\n",
    "# remove dir\n",
    "os.rmdir('test-dir')\n",
    "\n",
    "\n",
    "\n",
    "# Check if the directory is readable\n",
    "if os.access('data', os.R_OK):\n",
    "    print(\"Directory is readable.\")\n",
    "else:\n",
    "    print(\"Directory is not readable.\")\n",
    "\n",
    "# Check if the directory is writable\n",
    "if os.access('data', os.W_OK):\n",
    "    print(\"Directory is writable.\")\n",
    "else:\n",
    "    print(\"Directory is not writable.\")\n",
    "\n",
    "\n",
    "# Check if the file is executable\n",
    "if os.access('main.py', os.EX_OK):\n",
    "    print(\"Directory is writable.\")\n",
    "else:\n",
    "    print(\"Directory is not writable.\")\n"
   ]
  },
  {
   "cell_type": "markdown",
   "metadata": {},
   "source": []
  }
 ],
 "metadata": {
  "kernelspec": {
   "display_name": "base",
   "language": "python",
   "name": "python3"
  },
  "language_info": {
   "codemirror_mode": {
    "name": "ipython",
    "version": 3
   },
   "file_extension": ".py",
   "mimetype": "text/x-python",
   "name": "python",
   "nbconvert_exporter": "python",
   "pygments_lexer": "ipython3",
   "version": "3.12.4"
  }
 },
 "nbformat": 4,
 "nbformat_minor": 2
}
