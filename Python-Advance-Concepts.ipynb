{
 "cells": [
  {
   "cell_type": "markdown",
   "metadata": {},
   "source": [
    "# Python Advance Concepts"
   ]
  },
  {
   "cell_type": "markdown",
   "metadata": {},
   "source": [
    "# Iterators and Generators in Python\n",
    "\n",
    "| **Term**              | **Definition**                                                                                                                                                           |\n",
    "|-----------------------|--------------------------------------------------------------------------------------------------------------------------------------------------------------------------|\n",
    "| **Iterable**           | A Python object which can be looped over or iterated over in a loop. Examples of iterables include lists, sets, tuples, dictionaries, strings, etc.                        |\n",
    "| **Iterator**           | An iterator is an object that can be iterated upon. Thus, iterators contain a countable number of values.                                                                |\n",
    "| **Generator**          | A special type of function which does not return a single value: it returns an iterator object with a sequence of values.                                                 |\n",
    "| **Lazy Evaluation**    | An evaluation strategy whereby certain objects are only produced when required. Consequently, certain developer circles also refer to lazy evaluation as “call-by-need.” |\n",
    "| **Iterator Protocol**  | A set of rules that must be followed to define an iterator in Python.                                                                                                    |\n",
    "| **next()**             | A built-in function used to return the next item in an iterator.                                                                                                         |\n",
    "| **iter()**             | A built-in function used to convert an iterable to an iterator.                                                                                                          |\n",
    "| **yield()**            | A Python keyword similar to the return keyword, except yield returns a generator object instead of a value.                                                               |\n"
   ]
  },
  {
   "cell_type": "markdown",
   "metadata": {},
   "source": [
    "### Iterator"
   ]
  },
  {
   "cell_type": "code",
   "execution_count": null,
   "metadata": {},
   "outputs": [
    {
     "name": "stdout",
     "output_type": "stream",
     "text": [
      "1\n",
      "2\n",
      "3\n",
      "4\n"
     ]
    },
    {
     "ename": "StopIteration",
     "evalue": "",
     "output_type": "error",
     "traceback": [
      "\u001b[1;31m---------------------------------------------------------------------------\u001b[0m",
      "\u001b[1;31mStopIteration\u001b[0m                             Traceback (most recent call last)",
      "Cell \u001b[1;32mIn[2], line 18\u001b[0m\n\u001b[0;32m     16\u001b[0m \u001b[38;5;28mprint\u001b[39m(\u001b[38;5;28mnext\u001b[39m(iterator))  \u001b[38;5;66;03m# This will throw StopIteration\u001b[39;00m\n\u001b[0;32m     17\u001b[0m \u001b[38;5;28mprint\u001b[39m(\u001b[38;5;28mnext\u001b[39m(iterator))  \u001b[38;5;66;03m# This will throw StopIteration\u001b[39;00m\n\u001b[1;32m---> 18\u001b[0m \u001b[38;5;28mprint\u001b[39m(\u001b[38;5;28mnext\u001b[39m(iterator))\n",
      "\u001b[1;31mStopIteration\u001b[0m: "
     ]
    }
   ],
   "source": [
    "list_instance = [1, 2, 3, 4]\n",
    "\n",
    "for i in list_instance:\n",
    "    print(i)\n",
    "\n",
    "for i in list_instance:\n",
    "    print(i)\n",
    "\n",
    "iterator = iter(list_instance)\n",
    "\n",
    "for item in iterator:\n",
    "    print(item)\n",
    "\n",
    "print(next(iterator))  # This will throw StopIteration\n"
   ]
  },
  {
   "cell_type": "markdown",
   "metadata": {},
   "source": [
    "### Generator\n",
    "- A generator is a special type of function that allows to iterate over a sequence of values, but instead of returning all the values at once it yields them one at a time\n",
    "\n",
    "**Key Characteristics of Python Generators:**\n",
    "- Lazy Evaluation: Generators evaluate values only when requested, making them memory-efficient, especially for large data sets.\n",
    "- Stateful Iteration: Unlike normal functions, which execute from start to finish, generators maintain their state between iterations. They \"pause\" at each yield and resume where they left off when the next value is requested.\n",
    "- Implicit Iterator: A generator is an iterator, meaning it automatically follows the iterator protocol by having __iter__() and __next__() methods."
   ]
  },
  {
   "cell_type": "code",
   "execution_count": 3,
   "metadata": {},
   "outputs": [
    {
     "name": "stdout",
     "output_type": "stream",
     "text": [
      "[1, 2, 4, 5, 10, 20]\n",
      "<generator object factors_gen at 0x00000247E8F77680>\n",
      "1\n"
     ]
    }
   ],
   "source": [
    "# normal function\n",
    "def factors(n):\n",
    "  factor_list = []\n",
    "  for val in range(1, n+1):\n",
    "      if n % val == 0:\n",
    "          factor_list.append(val)\n",
    "  return factor_list\n",
    "\n",
    "print(factors(20))\n",
    "\n",
    "\n",
    "def factors_gen(n):\n",
    "  for val in range(1, n+1):\n",
    "      if n % val == 0:\n",
    "          yield val\n",
    "\n",
    "\n",
    "factors20 = factors_gen(20)\n",
    "print(factors20)\n",
    "print(next(factors20))\n",
    "# for factor in factors20:\n",
    "#     print(factor)\n",
    "\n"
   ]
  },
  {
   "cell_type": "markdown",
   "metadata": {},
   "source": [
    "# Data Compression in Python\n",
    "| Module    | Description                             |\n",
    "|-----------|-----------------------------------------|\n",
    "| zlib      | Compression compatible with gzip.       |\n",
    "| gzip      | Support for gzip files.                 |\n",
    "| bz2       | Support for bz2 compression.           |\n",
    "| lzma      | Compression using the LZMA algorithm.   |\n",
    "| zipfile   | Work with ZIP archives.                |\n",
    "| tarfile   | Read and write tar archive files.      |\n"
   ]
  },
  {
   "cell_type": "markdown",
   "metadata": {},
   "source": [
    "### zlib - Compression compatible with gzip"
   ]
  },
  {
   "cell_type": "code",
   "execution_count": null,
   "metadata": {},
   "outputs": [
    {
     "name": "stdout",
     "output_type": "stream",
     "text": [
      "Compressed Data: b'x\\x9c\\xf3H\\xcd\\xc9\\xc9\\xd7Q\\x08\\xcf/\\xcaIQ\\x04\\x00\\x1f\\x9e\\x04j'\n",
      "Decompressed Data: Hello, World!\n"
     ]
    }
   ],
   "source": [
    "import zlib\n",
    "\n",
    "data = b\"Hello, World!\"\n",
    "\n",
    "compressed = zlib.compress(data)\n",
    "print(f\"Compressed Data: {compressed}\")\n",
    "\n",
    "decompressed = zlib.decompress(compressed)\n",
    "print(f\"Decompressed Data: {decompressed.decode()}\")\n"
   ]
  },
  {
   "cell_type": "markdown",
   "metadata": {},
   "source": [
    "### gzip - Support for gzip files"
   ]
  },
  {
   "cell_type": "code",
   "execution_count": null,
   "metadata": {},
   "outputs": [
    {
     "name": "stdout",
     "output_type": "stream",
     "text": [
      "Content from gzip file: Hello, Gzip!\n"
     ]
    }
   ],
   "source": [
    "import gzip\n",
    "\n",
    "# Writing to a gzip file\n",
    "with gzip.open('example.txt.gz', 'wt') as f:\n",
    "    f.write(\"Hello, Gzip!\")\n",
    "\n",
    "# Reading from the gzip file\n",
    "with gzip.open('example.txt.gz', 'rt') as f:\n",
    "    content = f.read()\n",
    "    print(f\"Content from gzip file: {content}\")\n",
    "\n",
    "\n",
    "# with zipfile.ZipFile('example.zip', 'a') as zipf: \n",
    "#     zipf.write('new_file.txt')  \n",
    "#     print(\"Added 'new_file.txt' to the ZIP archive\")\n",
    "\n",
    "# with zipfile.ZipFile('example.zip', 'r') as zipf:\n",
    "#     print(f\"Contents of the ZIP file: {zipf.namelist()}\")"
   ]
  },
  {
   "cell_type": "markdown",
   "metadata": {},
   "source": [
    "## Python Collections\n",
    "| Collection    | Description                                                                                 |\n",
    "|---------------|---------------------------------------------------------------------------------------------|\n",
    "| namedtuple    | A factory function for creating tuple-like objects with named fields for better readability.|\n",
    "| deque         | A double-ended queue supporting fast appends and pops from both ends.                      |\n",
    "| ChainMap      | A container for combining multiple dictionaries into a single view.                        |\n",
    "| Counter       | A dictionary subclass for counting hashable objects.                                       |\n",
    "| OrderedDict   | A dictionary that remembers the order in which keys were inserted (insertion-ordered).     |\n",
    "| defaultdict   | A dictionary with default values for non-existent keys, defined by a default factory.      |\n",
    "| UserDict      | A wrapper around dictionary objects, allowing customization of dictionary behavior.         |\n",
    "| UserList      | A wrapper around list objects, allowing customization of list behavior.                    |\n",
    "| UserString    | A wrapper around string objects, allowing customization of string behavior.                |\n"
   ]
  },
  {
   "cell_type": "markdown",
   "metadata": {},
   "source": [
    "### namedtuple"
   ]
  },
  {
   "cell_type": "code",
   "execution_count": null,
   "metadata": {},
   "outputs": [
    {
     "name": "stdout",
     "output_type": "stream",
     "text": [
      "x: 10, y: 20, z: 30\n"
     ]
    }
   ],
   "source": [
    "from collections import namedtuple\n",
    "\n",
    "Point = namedtuple('Point', ['x', 'y','z'])\n",
    "\n",
    "p = Point(10, 20,30)\n",
    "\n",
    "print(f\"x: {p.x}, y: {p.y}, z: {p.z}\") \n"
   ]
  },
  {
   "cell_type": "markdown",
   "metadata": {},
   "source": [
    "### ChainMap"
   ]
  },
  {
   "cell_type": "code",
   "execution_count": 4,
   "metadata": {},
   "outputs": [
    {
     "name": "stdout",
     "output_type": "stream",
     "text": [
      "ChainMap({'a': 1, 'b': 2}, {'b': 3, 'c': 4})\n",
      "2\n",
      "4\n"
     ]
    }
   ],
   "source": [
    "from collections import ChainMap\n",
    "\n",
    "# Combine dictionaries\n",
    "dict1 = {'a': 1, 'b': 2}\n",
    "dict2 = {'b': 3, 'c': 4}\n",
    "cm = ChainMap(dict1, dict2)\n",
    "print(cm)\n",
    "print(cm['b'])  \n",
    "print(cm['c'])  \n"
   ]
  },
  {
   "cell_type": "markdown",
   "metadata": {},
   "source": [
    "### Counter"
   ]
  },
  {
   "cell_type": "code",
   "execution_count": null,
   "metadata": {},
   "outputs": [
    {
     "name": "stdout",
     "output_type": "stream",
     "text": [
      "{'apple': 2, 'banana': 1, 'orange': 1}\n"
     ]
    }
   ],
   "source": [
    "from collections import Counter\n",
    "\n",
    "data = ['apple', 'banana', 'apple', 'orange']\n",
    "counter = Counter(data)\n",
    "\n",
    "print(counter) \n"
   ]
  },
  {
   "cell_type": "markdown",
   "metadata": {},
   "source": [
    "## Date and Time\n",
    "- Python's datetime module provides classes for manipulating dates and times\n",
    "\n",
    "| **Feature**        | **Description**                                                                                  |\n",
    "|---------------------|--------------------------------------------------------------------------------------------------|\n",
    "| **`date` Class**   | Represents calendar dates (year, month, day) without time zone or time information.              |\n",
    "| **`time` Class**   | Represents time (hour, minute, second, microsecond) without any associated date or timezone.     |\n",
    "| **`datetime` Class** | Combines date and time into a single object for precise moment representation.                  |\n",
    "| **`timedelta` Class** | Represents the difference between two `date`, `time`, or `datetime` objects for calculations. |\n",
    "| **`tzinfo` Class** | Abstract class for dealing with time zones. Used with third-party libraries like `pytz` or `zoneinfo`. |\n",
    "| **`strftime` Method** | Converts a `datetime` object into a formatted string. Useful for creating readable timestamps. |\n",
    "| **`strptime` Method** | Parses a string into a `datetime` object based on predefined format strings.                  |\n",
    "| **`datetime.now()`** | Returns the current local date and time.                                                       |\n",
    "| **`datetime.utcnow()`** | Returns the current date and time in UTC.                                                   |\n",
    "| **`time.sleep()`** | Suspends program execution for the specified number of seconds.                                  |\n",
    "| **Formatting**     | Customize date/time representation using format specifiers like `%Y`, `%m`, `%d`, `%H`, etc.     |\n",
    "| **Time Zones**     | Handle time zones for regional adjustments and daylight saving using libraries like `pytz`.      |\n",
    "| **Applications**   | Logging, scheduling, timestamps, durations, and time-sensitive tasks.                           |\n"
   ]
  },
  {
   "cell_type": "code",
   "execution_count": null,
   "metadata": {},
   "outputs": [
    {
     "name": "stdout",
     "output_type": "stream",
     "text": [
      "Today's date: 2024-12-03\n",
      "Year: 2024\n",
      "Month: 12\n",
      "Day: 3\n",
      "Current datetime: 2024-12-03 21:32:04.059135\n",
      "Year: 2024\n",
      "Month: 12\n",
      "Day: 3\n",
      "Hour: 21\n",
      "Minute: 32\n",
      "Second: 4\n",
      "Specific datetime: 2024-12-25 10:30:00\n"
     ]
    }
   ],
   "source": [
    "from datetime import date\n",
    "from datetime import datetime\n",
    "\n",
    "# date\n",
    "today = date.today()\n",
    "print(\"Today's date:\", today)\n",
    "\n",
    "print(\"Year:\", today.year)\n",
    "print(\"Month:\", today.month)\n",
    "print(\"Day:\", today.day)\n",
    "\n",
    "# datetime\n",
    "now = datetime.now()\n",
    "print(\"Current datetime:\", now)\n",
    "\n",
    "\n",
    "print(\"Year:\", now.year)\n",
    "print(\"Month:\", now.month)\n",
    "print(\"Day:\", now.day)\n",
    "print(\"Hour:\", now.hour)\n",
    "print(\"Minute:\", now.minute)\n",
    "print(\"Second:\", now.second)\n",
    "\n",
    "\n",
    "# create new datetime object\n",
    "specific_datetime = datetime(2024, 12, 25, 10, 30)\n",
    "print(\"Specific datetime:\", specific_datetime)\n",
    "\n"
   ]
  },
  {
   "cell_type": "markdown",
   "metadata": {},
   "source": [
    "### Formatting date time"
   ]
  },
  {
   "cell_type": "code",
   "execution_count": null,
   "metadata": {},
   "outputs": [
    {
     "name": "stdout",
     "output_type": "stream",
     "text": [
      "Formatted datetime: 2024-12-03 21:34:09\n",
      "Parsed datetime: 2024-12-25 10:30:00\n"
     ]
    }
   ],
   "source": [
    "from datetime import datetime\n",
    "from datetime import datetime\n",
    "\n",
    "# date\n",
    "now = datetime.now()\n",
    "formatted = now.strftime(\"%Y-%m-%d %H:%M:%S\")\n",
    "print(\"Formatted datetime:\", formatted)\n",
    "\n",
    "\n",
    "## date time\n",
    "date_string = \"2024-12-25 10:30:00\"\n",
    "parsed_date = datetime.strptime(date_string, \"%Y-%m-%d %H:%M:%S\")\n",
    "print(\"Parsed datetime:\", parsed_date)\n"
   ]
  },
  {
   "cell_type": "markdown",
   "metadata": {},
   "source": [
    "### Timezone"
   ]
  },
  {
   "cell_type": "code",
   "execution_count": 7,
   "metadata": {},
   "outputs": [
    {
     "name": "stdout",
     "output_type": "stream",
     "text": [
      "UTC time: 2024-12-04 01:57:46.797416+00:00\n",
      "Nepal Standard Time: 2024-12-04 07:42:46.797416+05:45\n"
     ]
    }
   ],
   "source": [
    "from datetime import datetime\n",
    "import pytz\n",
    "\n",
    "utc = pytz.UTC\n",
    "nst = pytz.timezone('Asia/Kathmandu')\n",
    "\n",
    "now = datetime.now(utc)\n",
    "print(\"UTC time:\", now)\n",
    "\n",
    "nst_time = now.astimezone(nst)\n",
    "print(\"Nepal Standard Time:\", nst_time)\n"
   ]
  },
  {
   "cell_type": "markdown",
   "metadata": {},
   "source": [
    "### datetime Misc."
   ]
  },
  {
   "cell_type": "code",
   "execution_count": null,
   "metadata": {},
   "outputs": [
    {
     "name": "stdout",
     "output_type": "stream",
     "text": [
      "Sleep\n",
      "Wakeup\n",
      "Local time: 2024-12-03 21:36:59.939295\n",
      "UTC time: 2024-12-03 15:51:59.939343\n"
     ]
    }
   ],
   "source": [
    "import time\n",
    "print(\"Sleep\")\n",
    "time.sleep(2)\n",
    "print(\"Wakeup\") \n",
    "\n",
    "\n",
    "local_time = datetime.now()\n",
    "utc_time = datetime.utcnow()\n",
    "print(\"Local time:\", local_time)\n",
    "print(\"UTC time:\", utc_time)"
   ]
  },
  {
   "cell_type": "markdown",
   "metadata": {},
   "source": [
    "### Regular Expressions in Python\n",
    "- Python's ``re`` is module for regular expressions\n",
    "\n",
    "\n",
    "| **Feature**                  | **Description**                                                                 |\n",
    "|------------------------------|---------------------------------------------------------------------------------|\n",
    "| **`re.match`**               | Checks if the regex pattern matches the beginning of the string.               |\n",
    "| **`re.search`**              | Searches the entire string for a match of the pattern.                         |\n",
    "| **`re.findall`**             | Returns all non-overlapping matches of the pattern in the string.              |\n",
    "| **`re.split`**               | Splits a string at every match of the pattern and returns a list of substrings.|\n",
    "| **`re.sub`**                 | Replaces occurrences of the pattern with a specified string.                   |\n",
    "| **Character Classes**        | Defines sets of characters like digits (`\\d`), words (`\\w`), etc.              |\n",
    "| **Quantifiers**              | Specify how many times a character or group can appear (`*`, `+`, `?`, `{n,m}`).|\n",
    "| **Special Characters**       | Used for anchors (`^`, `$`), alternation (`|`), and grouping (`()`).           |\n",
    "| **Raw Strings (`r'...'`)**   | Prevents escape sequences from being processed by Python, ideal for regex.     |\n"
   ]
  },
  {
   "cell_type": "markdown",
   "metadata": {},
   "source": [
    "#### Using ``re.match``"
   ]
  },
  {
   "cell_type": "code",
   "execution_count": 11,
   "metadata": {},
   "outputs": [
    {
     "name": "stdout",
     "output_type": "stream",
     "text": [
      "Match found: Hello\n"
     ]
    }
   ],
   "source": [
    "import re\n",
    "\n",
    "pattern = r'^Hello'\n",
    "string = \"Hello, World!\"\n",
    "\n",
    "match = re.match(pattern, string)\n",
    "if match:\n",
    "    print(\"Match found:\", match.group())\n",
    "else:\n",
    "    print(\"No match found\")\n"
   ]
  },
  {
   "cell_type": "markdown",
   "metadata": {},
   "source": [
    "#### Using re.search"
   ]
  },
  {
   "cell_type": "code",
   "execution_count": 5,
   "metadata": {},
   "outputs": [
    {
     "name": "stdout",
     "output_type": "stream",
     "text": [
      "Search found: World\n"
     ]
    }
   ],
   "source": [
    "pattern = r'World'\n",
    "string = \"Hello, World!\"\n",
    "\n",
    "search = re.search(pattern, string)\n",
    "if search:\n",
    "    print(\"Search found:\", search.group())\n",
    "else:\n",
    "    print(\"No match found\")\n"
   ]
  },
  {
   "cell_type": "markdown",
   "metadata": {},
   "source": [
    "#### Using ``re.findall``"
   ]
  },
  {
   "cell_type": "code",
   "execution_count": 6,
   "metadata": {},
   "outputs": [
    {
     "name": "stdout",
     "output_type": "stream",
     "text": [
      "Find all matches: ['123', '45']\n"
     ]
    }
   ],
   "source": [
    "pattern = r'\\d+'  # Matches one or more digits\n",
    "string = \"There are 123 apples and 45 bananas.\"\n",
    "\n",
    "matches = re.findall(pattern, string)\n",
    "print(\"Find all matches:\", matches)\n"
   ]
  },
  {
   "cell_type": "markdown",
   "metadata": {},
   "source": [
    "#### Using ``re.split``"
   ]
  },
  {
   "cell_type": "code",
   "execution_count": null,
   "metadata": {},
   "outputs": [
    {
     "name": "stdout",
     "output_type": "stream",
     "text": [
      "['Split', 'this', '', 'string', '', 'into', 'words.']\n",
      "Split result: ['Split', 'this', 'string', 'into', 'words.']\n"
     ]
    }
   ],
   "source": [
    "pattern = r'\\s+'  # Matches one or more whitespace characters\n",
    "string = \"Split this  string  into words.\"\n",
    "print(string.split(' '))\n",
    "split_result = re.split(pattern, string)\n",
    "print(\"Split result:\", split_result)\n"
   ]
  },
  {
   "cell_type": "markdown",
   "metadata": {},
   "source": [
    "#### Character Classes"
   ]
  },
  {
   "cell_type": "code",
   "execution_count": 14,
   "metadata": {},
   "outputs": [
    {
     "name": "stdout",
     "output_type": "stream",
     "text": [
      "Character class matches: ['Regex', '123', 'is', 'fun']\n"
     ]
    }
   ],
   "source": [
    "pattern = r'\\w+'  # Matches any word characters (letters, digits, or underscores)\n",
    "string = \"Regex@123 is fun!\"\n",
    "\n",
    "matches = re.findall(pattern, string)\n",
    "print(\"Character class matches:\", matches)\n"
   ]
  },
  {
   "cell_type": "markdown",
   "metadata": {},
   "source": [
    "#### Quantifiers"
   ]
  },
  {
   "cell_type": "code",
   "execution_count": 17,
   "metadata": {},
   "outputs": [
    {
     "name": "stdout",
     "output_type": "stream",
     "text": [
      "Quantifier matches: ['123', '12', '1234', '1234']\n"
     ]
    }
   ],
   "source": [
    "pattern = r'\\d{2,4}'  # Matches between 2 and 4 digits\n",
    "string = \"Numbers= 3 8 123 12 12345 dfgf 1234\"\n",
    "\n",
    "matches = re.findall(pattern, string)\n",
    "print(\"Quantifier matches:\", matches)\n"
   ]
  },
  {
   "cell_type": "markdown",
   "metadata": {},
   "source": [
    "#### Special Characters"
   ]
  },
  {
   "cell_type": "code",
   "execution_count": 11,
   "metadata": {},
   "outputs": [
    {
     "name": "stdout",
     "output_type": "stream",
     "text": [
      "Special character matches: ['Start']\n",
      "Raw string match: ['\\n']\n"
     ]
    }
   ],
   "source": [
    "pattern = r'^Start|End$'  # Matches lines starting with 'Start' or ending with 'End'\n",
    "string = \"Start of the line\\nEnd of the line.\"\n",
    "\n",
    "matches = re.findall(pattern, string, re.MULTILINE)\n",
    "print(\"Special character matches:\", matches)\n",
    "\n",
    "\n",
    "pattern = r'\\n'  # Matches newline characters\n",
    "string = \"Line1\\nLine2\"\n",
    "\n",
    "raw_match = re.findall(pattern, string)\n",
    "print(\"Raw string match:\", raw_match)"
   ]
  },
  {
   "cell_type": "markdown",
   "metadata": {},
   "source": [
    "#### Regular Expressions Applications\n",
    "- Email Validation\n",
    "- Extract Date from Text\n",
    "- Phone Number Validation\n",
    "- Find All Words Starting with a Specific Letter\n",
    "- Replace Patterns in Text\n",
    "- Split Text by Non-Alphanumeric Characters\n",
    "- Check if a String Contains Only Digits\n",
    "- Extract Hashtags from Text\n",
    "-  Validate Password Strength"
   ]
  },
  {
   "cell_type": "code",
   "execution_count": 34,
   "metadata": {},
   "outputs": [
    {
     "name": "stdout",
     "output_type": "stream",
     "text": [
      "'example@test.com' is a valid email address.\n",
      "Extracted dates: ['2024-12-03', '2024-12-04']\n",
      "Words starting with 'a': ['Apple', 'and', 'apricot', 'are']\n",
      "Strong password!\n"
     ]
    }
   ],
   "source": [
    "import re\n",
    "\n",
    "# Email validation pattern\n",
    "email_pattern = r'^[a-zA-Z0-9_.+-]+@[a-zA-Z0-9-]+\\.[a-zA-Z0-9-.]+$'\n",
    "\n",
    "email = \"example@test.com\"\n",
    "if re.match(email_pattern, email):\n",
    "    print(f\"'{email}' is a valid email address.\")\n",
    "else:\n",
    "    print(f\"'{email}' is not a valid email address.\")\n",
    "\n",
    "\n",
    "text = \"Today's date is 2024-12-03 and tomorrow is 2024-12-04.\"\n",
    "\n",
    "# Date extraction pattern\n",
    "date_pattern = r'\\b\\d{4}-\\d{2}-\\d{2}\\b'\n",
    "\n",
    "dates = re.findall(date_pattern, text)\n",
    "print(\"Extracted dates:\", dates) \n",
    "\n",
    "\n",
    "text = \"Apple, banana, and apricot are tasty fruits.\"\n",
    "\n",
    "# Words starting with 'a' or 'A'\n",
    "word_pattern = r'\\b[Aa]\\w*'\n",
    "\n",
    "words = re.findall(word_pattern, text)\n",
    "print(\"Words starting with 'a':\", words) \n",
    "\n",
    "\n",
    "password = \"P@ssw0rd123\"\n",
    "\n",
    "# Password strength pattern\n",
    "password_pattern = r'^(?=.*[A-Z])(?=.*[a-z])(?=.*\\d)(?=.*[@$!%*?&])[A-Za-z\\d@$!%*?&]{8,}$'\n",
    "\n",
    "if re.match(password_pattern, password):\n",
    "    print(\"Strong password!\")\n",
    "else:\n",
    "    print(\"Weak password! Ensure it contains at least one uppercase letter, one lowercase letter, one number, one special character, and is at least 8 characters long.\")\n",
    "\n"
   ]
  },
  {
   "cell_type": "markdown",
   "metadata": {},
   "source": [
    "# Miscellaneous Python Functions\n",
    "# HW Explore Python Filter Map, Reduce and Decorators Functions\n",
    "- **Filter**:  Filters elements from an iterable based on a function that returns True or False\n",
    "- **Map**: Applies a function to every element in an iterable and returns a map object\n",
    "- **Reduce**:  Combines elements of an iterable cumulatively using a function \n",
    "- **Decorators**:  Functions that modify or extend the behavior of other functions."
   ]
  },
  {
   "cell_type": "markdown",
   "metadata": {},
   "source": [
    "#### Filter"
   ]
  },
  {
   "cell_type": "code",
   "execution_count": 17,
   "metadata": {},
   "outputs": [
    {
     "name": "stdout",
     "output_type": "stream",
     "text": [
      "Even numbers: [2, 4, 6]\n",
      "Even numbers: [2, 4, 6]\n"
     ]
    }
   ],
   "source": [
    "numbers = [1, 2, 3, 4, 5, 6]\n",
    "\n",
    "\n",
    "\n",
    "even_numbers = list(filter(lambda x:x%2==0, numbers))\n",
    "print(\"Even numbers:\", even_numbers)  \n",
    "\n",
    "# alternate method\n",
    "def is_even(num):\n",
    "    return num % 2 == 0\n",
    "\n",
    "even_numbers = list(filter(is_even, numbers))\n",
    "print(\"Even numbers:\", even_numbers)  "
   ]
  },
  {
   "cell_type": "markdown",
   "metadata": {},
   "source": [
    "#### Map"
   ]
  },
  {
   "cell_type": "code",
   "execution_count": 20,
   "metadata": {},
   "outputs": [
    {
     "name": "stdout",
     "output_type": "stream",
     "text": [
      "Squared numbers: [1, 4, 9, 16, 25]\n",
      "Squared numbers: [1, 4, 9, 16, 25]\n"
     ]
    }
   ],
   "source": [
    "numbers = [1, 2, 3, 4, 5]\n",
    "\n",
    "squared_numbers = list(map(lambda x: x ** 2, numbers))\n",
    "print(\"Squared numbers:\", squared_numbers)  \n",
    "# alternate method\n",
    "def square_number(x):\n",
    "    return x**2\n",
    "squared_numbers = list(map(square_number, numbers))\n",
    "print(\"Squared numbers:\", squared_numbers)  \n"
   ]
  },
  {
   "cell_type": "markdown",
   "metadata": {},
   "source": [
    "#### Reduce"
   ]
  },
  {
   "cell_type": "code",
   "execution_count": null,
   "metadata": {},
   "outputs": [
    {
     "name": "stdout",
     "output_type": "stream",
     "text": [
      "Product of numbers: 24\n"
     ]
    }
   ],
   "source": [
    "from functools import reduce\n",
    "\n",
    "numbers = [1, 2, 3, 4]\n",
    "\n",
    "product = reduce(lambda prev_result, current_item: prev_result * current_item, numbers)\n",
    "print(\"Product of numbers:\", product)  \n"
   ]
  },
  {
   "cell_type": "markdown",
   "metadata": {},
   "source": [
    "#### Decorators"
   ]
  },
  {
   "cell_type": "code",
   "execution_count": null,
   "metadata": {},
   "outputs": [
    {
     "name": "stdout",
     "output_type": "stream",
     "text": [
      "Hello!\n",
      "My name is Alice\n"
     ]
    }
   ],
   "source": [
    "# *args Collects any number of positional arguments passed to a function into a tuple\n",
    "# **kwargs Collects any number of keyword arguments passed to a function into a dictionary\n",
    "def greet_decorator(func):\n",
    "    def wrapper(*args, **kwargs):\n",
    "        print(\"Hello!\")\n",
    "        return func(*args, **kwargs)\n",
    "    return wrapper\n",
    "\n",
    "@greet_decorator\n",
    "def say_name(name):\n",
    "    print(f\"My name is {name}\")\n",
    "\n",
    "say_name(\"Alice\")\n"
   ]
  },
  {
   "cell_type": "markdown",
   "metadata": {},
   "source": [
    "##  zip, unzip and applications with list, dict and sets"
   ]
  },
  {
   "cell_type": "code",
   "execution_count": 30,
   "metadata": {},
   "outputs": [
    {
     "name": "stdout",
     "output_type": "stream",
     "text": [
      "Zipped: [(1, 'a'), (2, 'b'), (3, 'c')]\n",
      "List1: (1, 2, 3)\n",
      "List2: ('a', 'b', 'c')\n",
      "Dictionary: {'name': 'Alice', 'age': 25, 'city': 'New York'}\n"
     ]
    }
   ],
   "source": [
    "# Combining two lists into pairs\n",
    "list1 = [1, 2, 3]\n",
    "list2 = ['a', 'b', 'c']\n",
    "\n",
    "zipped = zip(list1, list2)\n",
    "print(\"Zipped:\", list(zipped))  \n",
    "\n",
    "# Unzipping back into separate lists\n",
    "zipped = [(1, 'a'), (2, 'b'), (3, 'c')]\n",
    "\n",
    "list1, list2 = zip(*zipped)\n",
    "print(\"List1:\", list1)  \n",
    "print(\"List2:\", list2)  \n",
    "\n",
    "\n",
    "keys = ['name', 'age', 'city']\n",
    "values = ['Alice', 25, 'New York']\n",
    "\n",
    "# Creating a dictionary from two lists\n",
    "dictionary = dict(zip(keys, values))\n",
    "print(\"Dictionary:\", dictionary) \n",
    "\n"
   ]
  },
  {
   "cell_type": "code",
   "execution_count": null,
   "metadata": {},
   "outputs": [],
   "source": []
  }
 ],
 "metadata": {
  "kernelspec": {
   "display_name": "base",
   "language": "python",
   "name": "python3"
  },
  "language_info": {
   "codemirror_mode": {
    "name": "ipython",
    "version": 3
   },
   "file_extension": ".py",
   "mimetype": "text/x-python",
   "name": "python",
   "nbconvert_exporter": "python",
   "pygments_lexer": "ipython3",
   "version": "3.12.4"
  }
 },
 "nbformat": 4,
 "nbformat_minor": 2
}
