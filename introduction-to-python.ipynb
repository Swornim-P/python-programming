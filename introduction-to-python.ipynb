{
 "cells": [
  {
   "cell_type": "markdown",
   "metadata": {},
   "source": [
    "# Primitive Data types\n",
    "- Number\n",
    "    - int\n",
    "    - float\n",
    "    - complex\n",
    "- String\n",
    "- Boolean\n",
    "- None"
   ]
  },
  {
   "cell_type": "markdown",
   "metadata": {},
   "source": [
    "# Numbers"
   ]
  },
  {
   "cell_type": "code",
   "execution_count": 6,
   "metadata": {},
   "outputs": [
    {
     "name": "stdout",
     "output_type": "stream",
     "text": [
      "<class 'complex'>\n"
     ]
    }
   ],
   "source": [
    "# int\n",
    "age =  30\n",
    "# float\n",
    "price = 10.5\n",
    "# complex\n",
    "complex_number = 1j\n",
    "\n",
    "print(type(complex_number))"
   ]
  },
  {
   "cell_type": "markdown",
   "metadata": {},
   "source": [
    "### Arithematic Operations"
   ]
  },
  {
   "cell_type": "code",
   "execution_count": null,
   "metadata": {},
   "outputs": [
    {
     "name": "stdout",
     "output_type": "stream",
     "text": [
      "0\n",
      "0.5\n",
      "5\n"
     ]
    }
   ],
   "source": [
    "# addition\n",
    "a = 5\n",
    "b = 10\n",
    "sum_of_ab = a+b\n",
    "# substraction\n",
    "diff_of_ab = a-b\n",
    "# multiplication\n",
    "product_of_ab = a*b\n",
    "# division\n",
    "div_of_ab = a/b # 0.5\n",
    "div_of_ab_floor = a//b\n",
    "print(div_of_ab_floor)\n",
    "print(div_of_ab)\n",
    "# modulo (modulus) operator (returns the remainder)\n",
    "rem_a_b = a%b     \n",
    "print(rem_a_b)\n",
    "# power\n",
    "total_ram_size = 10**9 "
   ]
  },
  {
   "cell_type": "markdown",
   "metadata": {},
   "source": [
    "## String in Python\n",
    "Collection of characters"
   ]
  },
  {
   "cell_type": "code",
   "execution_count": 10,
   "metadata": {},
   "outputs": [
    {
     "name": "stdout",
     "output_type": "stream",
     "text": [
      "11\n",
      "R\n",
      "G\n",
      "e\n",
      "fist last name Ram Ghimire\n",
      "RamGhimire Ram and Ghimire\n",
      "ram ghimire\n",
      "RAM GHIMIRE\n",
      "Ram ghimire\n",
      "0\n",
      "['Ram', 'Ghimire']\n",
      "name\n",
      "dsfdksafhdks hfksjdaf\n",
      "ddskfhdskajfhds fds\n",
      "\n"
     ]
    }
   ],
   "source": [
    "name = \"Ram Ghimire\"\n",
    "# length of the string\n",
    "total_no_of_chars = len(name)\n",
    "print(total_no_of_chars)\n",
    " \n",
    "# get first char\n",
    "fist_char = name[0]\n",
    "print(fist_char)\n",
    "# get 5th char\n",
    "fifth_char =name[4]\n",
    "print(fifth_char)\n",
    "# last char\n",
    "last_char = name[-1]\n",
    "print(last_char)\n",
    "\n",
    "\n",
    "# sub-string\n",
    "first_name = name[0:3] # 0,1,2\n",
    "last_name = name[4:11] \n",
    "print(\"fist last name\",first_name,last_name)\n",
    "\n",
    "# concatenation\n",
    "full_name = first_name +  last_name\n",
    "\n",
    "full_name1 = f\"{first_name} and {last_name}\"\n",
    "\n",
    "print(full_name,full_name1)\n",
    "\n",
    "print(name.lower())\n",
    "print(name.upper())\n",
    "print(name.capitalize())\n",
    "\n",
    "find_name  = name.lower().find(\"ram\") # returns index  if exist , returns -1 => not exist\n",
    "print(find_name)\n",
    "\n",
    "# convert string into list\n",
    "all_chars_of_name = name.split()\n",
    "print(all_chars_of_name)\n",
    "print(\" name \".strip())\n",
    "\n",
    "# find  # find index of sub-string\n",
    "# split => splits string (sentences) into list (words) (splits by space by default)\n",
    "# lower, upper => lower converts string to lower case, upper => to uppercase\n",
    "# strip => removes first and last space\n",
    "\n",
    "\n",
    "# python multi line string (paragraph)\n",
    "\n",
    "paragraph = '''dsfdksafhdks hfksjdaf\n",
    "ddskfhdskajfhds fds\n",
    "'''\n",
    "print(paragraph)\n"
   ]
  },
  {
   "cell_type": "markdown",
   "metadata": {},
   "source": [
    "# boolean\n",
    "- True\n",
    "- False"
   ]
  },
  {
   "cell_type": "code",
   "execution_count": 9,
   "metadata": {},
   "outputs": [
    {
     "name": "stdout",
     "output_type": "stream",
     "text": [
      "True False\n"
     ]
    }
   ],
   "source": [
    "passed = True\n",
    "active = False\n",
    "print(passed,active)"
   ]
  },
  {
   "cell_type": "markdown",
   "metadata": {},
   "source": [
    "# None\n",
    "- None keyword is used for defining a null value (no value at all)"
   ]
  },
  {
   "cell_type": "code",
   "execution_count": null,
   "metadata": {},
   "outputs": [],
   "source": [
    "middle_name = None"
   ]
  },
  {
   "cell_type": "markdown",
   "metadata": {},
   "source": [
    "# Composite Data Types\n",
    "### Collection Types\n",
    "- List\n",
    "- Dictionary\n",
    "- Tuple\n",
    "- Set\n",
    "- Range\n",
    "### Dictionary"
   ]
  },
  {
   "cell_type": "markdown",
   "metadata": {},
   "source": [
    "## List\n",
    "- A list is a mutable and ordered collection of elements in Python.\n",
    "- It allows duplicate elements and maintains the order of insertion.\n",
    "- Lists are versatile and can contain elements of different data types.\n",
    "- Lists are defined by enclosing comma-separated elements within square brackets [ ]"
   ]
  },
  {
   "cell_type": "code",
   "execution_count": null,
   "metadata": {},
   "outputs": [
    {
     "name": "stdout",
     "output_type": "stream",
     "text": [
      "After appending 'Sushi': ['Pizza', 'MoMo', 'Sushi']\n",
      "After inserting 'Burger' at index 1: ['Pizza', 'Burger', 'MoMo', 'Sushi']\n",
      "After removing 'MoMo': ['Pizza', 'Burger', 'Sushi']\n",
      "Popped item: Sushi\n",
      "List after popping: ['Pizza', 'Burger']\n",
      "First item in the list: Pizza\n",
      "Sliced list from index 1 to 3: ['Burger']\n",
      "Length of the list: 2\n"
     ]
    }
   ],
   "source": [
    "favoriteFoods = ['Pizza','MoMo'] # create new list\n",
    "\n",
    "numbers = [1,2,3,4,5,6,7]\n",
    "# length of list\n",
    "total_items = len(numbers)\n",
    "\n",
    "#  Append an item to the list\n",
    "favoriteFoods.append('Sushi')\n",
    "print(\"After appending 'Sushi':\", favoriteFoods)\n",
    "\n",
    "#  Insert an item at a specific position\n",
    "favoriteFoods.insert(1, 'Burger')\n",
    "print(\"After inserting 'Burger' at index 1:\", favoriteFoods)\n",
    "\n",
    "#  Remove an item from the list\n",
    "favoriteFoods.remove('MoMo')\n",
    "print(\"After removing 'MoMo':\", favoriteFoods)\n",
    "\n",
    "#  Pop an item from the list\n",
    "popped_item = favoriteFoods.pop()\n",
    "del numbers[2] \n",
    "print(\"Popped item:\", popped_item)\n",
    "print(\"List after popping:\", favoriteFoods)\n",
    "\n",
    "# Accessing an item by index\n",
    "print(\"First item in the list:\", favoriteFoods[0])\n",
    "\n",
    "# Slicing the list\n",
    "print(\"Sliced list from index 1 to 3:\", favoriteFoods[1:3])\n",
    "\n",
    "# Length of the list\n",
    "print(\"Length of the list:\", len(favoriteFoods))\n"
   ]
  },
  {
   "cell_type": "markdown",
   "metadata": {},
   "source": [
    "## Tuple\n",
    "- A tuple is an immutable and ordered collection of elements in Python.\n",
    "- It allows duplicate elements and maintains the order of insertion.\n",
    "- Tuples are commonly used for representing fixed collections of related data.\n",
    "- Tuples are defined by enclosing comma-separated elements within parentheses ( ).\n"
   ]
  },
  {
   "cell_type": "code",
   "execution_count": 12,
   "metadata": {},
   "outputs": [
    {
     "name": "stdout",
     "output_type": "stream",
     "text": [
      "Book tuple: ('Python Programming', 'John Smith', 2022, 400)\n",
      "\n",
      "Properties of the tuple:\n",
      "Immutable: Tuples are immutable, meaning their elements cannot be changed once assigned.\n",
      "Ordered: Tuples maintain the order of their elements.\n",
      "First element: Python Programming\n",
      "Heterogeneous: Tuples can contain elements of different data types.\n",
      "Author: John Smith\n",
      "Year: 2022\n",
      "Allows duplicates: Tuples can contain duplicate elements.\n",
      "Number of pages: 400\n",
      "Size is fixed: Once created, the size of a tuple cannot be changed.\n",
      "Length of the tuple: 4\n"
     ]
    }
   ],
   "source": [
    "# Create a tuple representing information about a book\n",
    "book = ('Python Programming', 'John Smith', 2022, 400)\n",
    "# Printing the tuple\n",
    "print(\"Book tuple:\", book)\n",
    "\n",
    "# Describing properties of the tuple\n",
    "print(\"\\nProperties of the tuple:\")\n",
    "\n",
    "# Immutable\n",
    "print(\"Immutable: Tuples are immutable, meaning their elements cannot be changed once assigned.\")\n",
    "# Uncomment the following line to see the error generated when trying to change a tuple element\n",
    "# book[0] = 'New Title'\n",
    "\n",
    "# Ordered\n",
    "print(\"Ordered: Tuples maintain the order of their elements.\")\n",
    "print(\"First element:\", book[0])\n",
    "\n",
    "# Heterogeneous\n",
    "print(\"Heterogeneous: Tuples can contain elements of different data types.\")\n",
    "print(\"Author:\", book[1])\n",
    "print(\"Year:\", book[2])\n",
    "\n",
    "# Allows duplicates\n",
    "print(\"Allows duplicates: Tuples can contain duplicate elements.\")\n",
    "print(\"Number of pages:\", book[3])\n",
    "\n",
    "# Size is fixed\n",
    "print(\"Size is fixed: Once created, the size of a tuple cannot be changed.\")\n",
    "print(\"Length of the tuple:\", len(book))\n"
   ]
  },
  {
   "cell_type": "markdown",
   "metadata": {},
   "source": [
    "## Set\n",
    "- A set is a mutable and unordered collection of unique elements in Python.\n",
    "- It does not allow duplicate elements and is primarily used for mathematical operations - like union, intersection, and difference.\n",
    "- Sets are defined by enclosing comma-separated elements within curly braces { }."
   ]
  },
  {
   "cell_type": "code",
   "execution_count": 13,
   "metadata": {},
   "outputs": [
    {
     "name": "stdout",
     "output_type": "stream",
     "text": [
      "Tags set: {'programming', 'tutorial', 'python'}\n",
      "\n",
      "Properties of the set:\n",
      "Unordered: Sets do not maintain the order of their elements.\n",
      "Unique elements: Sets contain only unique elements.\n",
      "Number of unique tags: 3\n",
      "Mutable: Sets are mutable, meaning elements can be added or removed.\n",
      "After adding 'web development': {'web development', 'programming', 'tutorial', 'python'}\n",
      "After removing 'tutorial': {'web development', 'programming', 'python'}\n",
      "Size can change: Sets can grow or shrink dynamically.\n",
      "Length of the set: 3\n"
     ]
    }
   ],
   "source": [
    "# Create a set representing unique tags for a blog post\n",
    "tags = {'python', 'programming', 'tutorial'}\n",
    "# Printing the set\n",
    "print(\"Tags set:\", tags)\n",
    "\n",
    "# Describing properties of the set\n",
    "print(\"\\nProperties of the set:\")\n",
    "\n",
    "# Unordered\n",
    "print(\"Unordered: Sets do not maintain the order of their elements.\")\n",
    "# Uncomment the following line to see the elements printed in different order\n",
    "# print(\"Elements in set:\", tags)\n",
    "\n",
    "# Unique elements\n",
    "print(\"Unique elements: Sets contain only unique elements.\")\n",
    "print(\"Number of unique tags:\", len(tags))\n",
    "\n",
    "# Mutable\n",
    "print(\"Mutable: Sets are mutable, meaning elements can be added or removed.\")\n",
    "tags.add('web development')\n",
    "print(\"After adding 'web development':\", tags)\n",
    "tags.remove('tutorial')\n",
    "print(\"After removing 'tutorial':\", tags)\n",
    "\n",
    "# Size can change\n",
    "print(\"Size can change: Sets can grow or shrink dynamically.\")\n",
    "print(\"Length of the set:\", len(tags))\n"
   ]
  },
  {
   "cell_type": "markdown",
   "metadata": {},
   "source": [
    "## Range\n",
    "- The range() function returns a sequence of numbers, starting from 0 by default, and increments by 1 (by default), and stops before a specified number.\n",
    "- range(start, stop, step)\n",
    "    - start: \tOptional. An integer number specifying at which position to start. Default is 0 \n",
    "    - stop:    Required. An integer number specifying at which position to stop (not included)\n",
    "    - step: \tOptional. An integer number specifying the incrementation. Default is 1\n"
   ]
  },
  {
   "cell_type": "code",
   "execution_count": 21,
   "metadata": {},
   "outputs": [
    {
     "name": "stdout",
     "output_type": "stream",
     "text": [
      "1\n",
      "2\n",
      "3\n",
      "4\n",
      "5\n",
      "6\n",
      "7\n",
      "8\n",
      "9\n"
     ]
    }
   ],
   "source": [
    "# Create a sequence of numbers from 1 to 10\n",
    "number_range = range(1,10)\n",
    "for n in number_range:\n",
    "    print(n)"
   ]
  },
  {
   "cell_type": "markdown",
   "metadata": {},
   "source": [
    "## Dictionary\n",
    "- A dictionary is a mutable and unordered collection of key-value pairs in Python.\n",
    "- It provides a mapping between keys and values, allowing efficient data retrieval.\n",
    "- Keys within a dictionary are unique and immutable, while values can be of any data type and mutable.\n",
    "- Dictionaries are defined by enclosing comma-separated key-value pairs within curly braces { }, with each pair separated by a colon :"
   ]
  },
  {
   "cell_type": "code",
   "execution_count": null,
   "metadata": {},
   "outputs": [
    {
     "name": "stdout",
     "output_type": "stream",
     "text": [
      "Yes\n",
      "John Doe\n",
      "Original dictionary:\n",
      "{'name': 'John Doe', 'age': 30, 'occupation': 'Software Engineer', 'city': 'New York', 'address': 'Kathmandu'}\n",
      "\n",
      "Accessing value by key:\n",
      "Name: John Doe\n",
      "Age: 30\n",
      "\n",
      "Adding a new key-value pair:\n",
      "After adding 'gender': {'name': 'John Doe', 'age': 30, 'occupation': 'Software Engineer', 'city': 'New York', 'address': 'Kathmandu', 'gender': 'Male'}\n",
      "\n",
      "Updating a value:\n",
      "After updating 'age': {'name': 'John Doe', 'age': 32, 'occupation': 'Software Engineer', 'city': 'New York', 'address': 'Kathmandu', 'gender': 'Male'}\n",
      "\n",
      "Removing a key-value pair:\n",
      "Removed value: Software Engineer\n",
      "After removing 'occupation': {'name': 'John Doe', 'age': 32, 'city': 'New York', 'address': 'Kathmandu', 'gender': 'Male'}\n",
      "\n",
      "Checking if a key exists:\n",
      "'city' exists in person dictionary: True\n",
      "'email' exists in person dictionary: False\n",
      "\n",
      "Iterating over keys and values:\n",
      "name: John Doe\n",
      "age: 32\n",
      "city: New York\n",
      "address: Kathmandu\n",
      "gender: Male\n",
      "\n",
      "Getting keys and values as lists:\n",
      "Keys: ['name', 'age', 'city', 'address', 'gender']\n",
      "Values: ['John Doe', 32, 'New York', 'Kathmandu', 'Male']\n",
      "\n",
      "Length of the dictionary: 5\n",
      "\n",
      "Clearing the dictionary:\n",
      "Dictionary after clearing: {}\n"
     ]
    }
   ],
   "source": [
    "# Create a person dictionary\n",
    "person = {\n",
    "    'name': 'John Doe',\n",
    "    'age': 30,\n",
    "    'occupation': 'Software Engineer',\n",
    "    'city': 'New York',\n",
    "    'marks' :[1,2,3,4,5,6,],\n",
    "    'parents_info' :{\n",
    "        'parent_name':'Ram Prashad',\n",
    "        'address':'Kathmandu'\n",
    "    }\n",
    "}\n",
    "person['address'] = 'Kathmandu'\n",
    "\n",
    "if 'address' in person:\n",
    "    print('Yes')\n",
    "\n",
    "print(person['name'])\n",
    "# Print the original dictionary\n",
    "print(\"Original dictionary:\")\n",
    "print(person)\n",
    "\n",
    "# Accessing value by key\n",
    "print(\"\\nAccessing value by key:\")\n",
    "print(\"Name:\", person['name'])\n",
    "print(\"Age:\", person['age'])\n",
    "\n",
    "# Adding a new key-value pair\n",
    "print(\"\\nAdding a new key-value pair:\")\n",
    "person['gender'] = 'Male'\n",
    "print(\"After adding 'gender':\", person)\n",
    "\n",
    "# Updating a value\n",
    "print(\"\\nUpdating a value:\")\n",
    "person['age'] = 32\n",
    "print(\"After updating 'age':\", person)\n",
    "\n",
    "# Removing a key-value pair\n",
    "print(\"\\nRemoving a key-value pair:\")\n",
    "removed_value = person.pop('occupation')\n",
    "print(\"Removed value:\", removed_value)\n",
    "print(\"After removing 'occupation':\", person)\n",
    "\n",
    "# Checking if a key exists\n",
    "print(\"\\nChecking if a key exists:\")\n",
    "print(\"'city' exists in person dictionary:\", 'city' in person)\n",
    "print(\"'email' exists in person dictionary:\", 'email' in person)\n",
    "\n",
    "# Iterating over keys and values\n",
    "print(\"\\nIterating over keys and values:\")\n",
    "for key, value in person.items():\n",
    "    print(key + \":\", value)\n",
    "\n",
    "# Getting keys and values as lists\n",
    "print(\"\\nGetting keys and values as lists:\")\n",
    "keys = list(person.keys())\n",
    "values = list(person.values())\n",
    "print(\"Keys:\", keys)\n",
    "print(\"Values:\", values)\n",
    "\n",
    "# Length of the dictionary\n",
    "print(\"\\nLength of the dictionary:\", len(person))\n",
    "\n",
    "# Clearing the dictionary\n",
    "print(\"\\nClearing the dictionary:\")\n",
    "person.clear()\n",
    "print(\"Dictionary after clearing:\", person)\n"
   ]
  },
  {
   "cell_type": "markdown",
   "metadata": {},
   "source": [
    "# Control Structures (Conditional Statements)\n",
    "- if\n",
    "- if-else \n",
    "- if-elif-else (if-elseif-else)\n",
    "- Nested if statements\n",
    "- Ternary conditional operator\n",
    "\n",
    "Note: Python doesn't have switch"
   ]
  },
  {
   "cell_type": "code",
   "execution_count": 15,
   "metadata": {},
   "outputs": [
    {
     "name": "stdout",
     "output_type": "stream",
     "text": [
      "Good Morning\n",
      "Its holiday\n",
      "petrol-powered vehicle\n",
      "20\n"
     ]
    }
   ],
   "source": [
    "time = 10\n",
    "# if\n",
    "if time<12:\n",
    "    print('Good Morning')\n",
    "\n",
    "# if-else\n",
    "\n",
    "day = 'Saturday'\n",
    "if day=='Saturday':\n",
    "    print('Its holiday')\n",
    "else:\n",
    "    print('Its weekday')\n",
    "\n",
    "# if-elif-else\n",
    "fuel_type='petrol'\n",
    "\n",
    "if fuel_type == 'electric':\n",
    "    print(\"Electric vehicle\")\n",
    "elif fuel_type == 'petrol':\n",
    "    print(\"petrol-powered vehicle\")\n",
    "elif fuel_type == 'diesel':\n",
    "    print(\"Diesel-powered vehicle\")\n",
    "else:\n",
    "    print(\"Unknown fuel type\")\n",
    "\n",
    "# ternary operator\n",
    "x = 10\n",
    "y = 20\n",
    "max_value = x if x > y else y # c equivalent max_value =  x>y ? x: y\n",
    "print(max_value)  # Output: 20"
   ]
  },
  {
   "cell_type": "markdown",
   "metadata": {},
   "source": [
    "# Loops\n",
    "- for (iterates overs sequence of values or elements)\n",
    "- while (while loop executes the block of code repeatedly as long as the specified condition is true)"
   ]
  },
  {
   "cell_type": "markdown",
   "metadata": {},
   "source": [
    "# For Loop"
   ]
  },
  {
   "cell_type": "code",
   "execution_count": 4,
   "metadata": {},
   "outputs": [
    {
     "name": "stdout",
     "output_type": "stream",
     "text": [
      "1\n",
      "2\n",
      "3\n",
      "4\n",
      "5\n",
      "[2, 4]\n",
      "[1, 2000, 3, 4000, 5]\n",
      "1 is in numbers list\n"
     ]
    }
   ],
   "source": [
    "# for loop over list\n",
    "numbers = [1, 2, 3, 4, 5]\n",
    "\n",
    "for num in numbers: # loop over list using for loop\n",
    "    print(num)\n",
    "\n",
    "even_numbers = [num for num in numbers if num %2 ==0]  # filter even numbers\n",
    "print(even_numbers)\n",
    "\n",
    "transformed_list = [num * 100 for num in numbers ] # transform\n",
    "\n",
    "new_list = [  num *1000 if num%2==0 else num for num in numbers ]\n",
    "print(new_list)\n",
    "\n",
    "\n",
    "# check if item exist in listcc\n",
    "if 1 in numbers:\n",
    "    print(\"1 is in numbers list\")\n",
    "\n"
   ]
  },
  {
   "cell_type": "markdown",
   "metadata": {},
   "source": [
    "# Range"
   ]
  },
  {
   "cell_type": "code",
   "execution_count": 1,
   "metadata": {},
   "outputs": [
    {
     "name": "stdout",
     "output_type": "stream",
     "text": [
      "1\n",
      "2\n",
      "3\n",
      "4\n",
      "5\n",
      "6\n",
      "7\n",
      "8\n",
      "9\n",
      "10\n",
      "11\n",
      "12\n",
      "13\n",
      "14\n",
      "15\n",
      "16\n",
      "17\n",
      "18\n",
      "19\n",
      "20\n",
      "21\n",
      "22\n",
      "23\n",
      "24\n",
      "25\n",
      "26\n",
      "27\n",
      "28\n",
      "29\n",
      "30\n",
      "31\n",
      "32\n",
      "33\n",
      "34\n",
      "35\n",
      "36\n",
      "37\n",
      "38\n",
      "39\n",
      "40\n",
      "41\n",
      "42\n",
      "43\n",
      "44\n",
      "45\n",
      "46\n",
      "47\n",
      "48\n",
      "49\n",
      "50\n",
      "51\n",
      "52\n",
      "53\n",
      "54\n",
      "55\n",
      "56\n",
      "57\n",
      "58\n",
      "59\n",
      "60\n",
      "61\n",
      "62\n",
      "63\n",
      "64\n",
      "65\n",
      "66\n",
      "67\n",
      "68\n",
      "69\n",
      "70\n",
      "71\n",
      "72\n",
      "73\n",
      "74\n",
      "75\n",
      "76\n",
      "77\n",
      "78\n",
      "79\n",
      "80\n",
      "81\n",
      "82\n",
      "83\n",
      "84\n",
      "85\n",
      "86\n",
      "87\n",
      "88\n",
      "89\n",
      "90\n",
      "91\n",
      "92\n",
      "93\n",
      "94\n",
      "95\n",
      "96\n",
      "97\n",
      "98\n",
      "99\n",
      "100\n"
     ]
    }
   ],
   "source": [
    "range_1_100 = range(1,101)\n",
    "for i in range_1_100:\n",
    "    print(i)"
   ]
  },
  {
   "cell_type": "code",
   "execution_count": 14,
   "metadata": {},
   "outputs": [
    {
     "name": "stdout",
     "output_type": "stream",
     "text": [
      "[3, 4, 5]\n",
      "[3, 4, 5]\n",
      "[3, 4, 5]\n"
     ]
    }
   ],
   "source": [
    "list_1 =  [1,2,3,4,5,6]\n",
    "list_2 = [3,4,5,10]\n",
    "\n",
    "common_list = [ i for i in list_1 if i in list_2]\n",
    "print(common_list)\n",
    "\n",
    "common_list = []\n",
    "for i in list_1:\n",
    "    if i in list_2:\n",
    "        common_list.append(i)\n",
    "\n",
    "print(common_list)\n",
    "common_list =[]\n",
    "for i in list_1:\n",
    "    for j in list_2:\n",
    "        if i==j:\n",
    "            common_list.append(i)\n",
    "         \n",
    "\n",
    "\n",
    "print(common_list)"
   ]
  },
  {
   "cell_type": "markdown",
   "metadata": {},
   "source": [
    "# Exception Handling\n",
    "It allows us to detect, handle, and recover from unexpected situations without crashing the program. Python provides a structured way to handle exceptions using \n",
    "- try \n",
    "- except\n",
    "- else\n",
    "- finally"
   ]
  },
  {
   "cell_type": "code",
   "execution_count": 18,
   "metadata": {},
   "outputs": [
    {
     "name": "stdout",
     "output_type": "stream",
     "text": [
      "Error: Division by zero is not allowed\n",
      "Cleanup: This code always runs, regardless of exceptions\n"
     ]
    }
   ],
   "source": [
    "def divide_numbers(x, y):\n",
    "    try:\n",
    "        result = x / y\n",
    "    except ZeroDivisionError:\n",
    "        print(\"Error: Division by zero is not allowed\")\n",
    "    else:\n",
    "        print(\"Division result:\", result)\n",
    "    finally:\n",
    "        print(\"Cleanup: This code always runs, regardless of exceptions\")\n",
    "divide_numbers(1,0)"
   ]
  },
  {
   "cell_type": "markdown",
   "metadata": {},
   "source": [
    "# Function\n",
    "- In Python, functions are reusable blocks of code that perform a specific task. \n",
    "- They provide a way to modularize code, improve readability, and promote code reuse. \n",
    "- Functions can take input parameters (arguments), perform operations, and optionally return a result."
   ]
  },
  {
   "cell_type": "markdown",
   "metadata": {},
   "source": [
    "### Define a Function\n",
    "```\n",
    "#Syntax\n",
    "def function_name(parameters):\n",
    "    # Block of code\n",
    "    return expression\n",
    "```"
   ]
  },
  {
   "cell_type": "code",
   "execution_count": 8,
   "metadata": {},
   "outputs": [
    {
     "name": "stdout",
     "output_type": "stream",
     "text": [
      "55\n",
      "110\n"
     ]
    }
   ],
   "source": [
    "def add(x,y):\n",
    "    sum = x+y\n",
    "    return sum\n",
    "\n",
    "\n",
    "\n",
    "def multiply(x,y):\n",
    "    products = x*y\n",
    "    return products\n",
    "\n",
    "sum_of_two_numbers =add(x=10,y=45)\n",
    "print(sum_of_two_numbers)\n",
    "print(add(10,100))"
   ]
  },
  {
   "cell_type": "markdown",
   "metadata": {},
   "source": [
    "### Calling a function\n",
    "Once defined, a function can be called or invoked to execute its code."
   ]
  },
  {
   "cell_type": "code",
   "execution_count": 22,
   "metadata": {},
   "outputs": [
    {
     "name": "stdout",
     "output_type": "stream",
     "text": [
      "55\n"
     ]
    }
   ],
   "source": [
    "message = add(x=10,y=45)\n",
    "print(message)  # Output: Hello, Alice!"
   ]
  },
  {
   "cell_type": "markdown",
   "metadata": {},
   "source": [
    "### Parameters and Arguments:\n",
    "\n",
    "- Functions can accept zero or more parameters, which act as placeholders for values passed during function invocation.\n",
    "- Parameters are specified in the function definition, while arguments are the actual values supplied when calling the function."
   ]
  },
  {
   "cell_type": "code",
   "execution_count": 11,
   "metadata": {},
   "outputs": [
    {
     "name": "stdout",
     "output_type": "stream",
     "text": [
      "8\n"
     ]
    }
   ],
   "source": [
    "def add(x, y): # x and y are parameters\n",
    "    return x + y\n",
    "\n",
    "result = add(3, 5)  # x = 3, y = 5 are arguments supplied to the function\n",
    "print(result)  # Output: 8"
   ]
  },
  {
   "cell_type": "markdown",
   "metadata": {},
   "source": [
    "### Default Arguments:\n",
    "- We can specify default values for function parameters. \n",
    "- If no value is provided for a default parameter, the default value is used."
   ]
  },
  {
   "cell_type": "code",
   "execution_count": 29,
   "metadata": {},
   "outputs": [
    {
     "name": "stdout",
     "output_type": "stream",
     "text": [
      "3\n"
     ]
    }
   ],
   "source": [
    "def greet(name=\"World\"):\n",
    "    return f\"Hello, {name}!\"\n",
    "\n",
    "greet(\"John\")\n",
    "\n",
    "def sum(a=0,b=0):\n",
    "    return a+b\n",
    "\n",
    "print(sum(b=3))"
   ]
  },
  {
   "cell_type": "markdown",
   "metadata": {},
   "source": [
    "### Arbitrary Arguments:\n",
    "\n",
    "- Functions can accept a variable number of arguments using *args or **kwargs (keyword arguments).\n",
    "- *args is used to pass a variable number of positional arguments, while **kwargs is used to pass a variable number of keyword arguments."
   ]
  },
  {
   "cell_type": "code",
   "execution_count": 30,
   "metadata": {},
   "outputs": [
    {
     "name": "stdout",
     "output_type": "stream",
     "text": [
      "1 2\n",
      "(3, 4, 5, 6)\n",
      "None\n"
     ]
    }
   ],
   "source": [
    "def add(a,b,*args):\n",
    "    print(a,b)\n",
    "    print(args)\n",
    "\n",
    "a = add(1,2,3,4,5,6)\n",
    "print(a)"
   ]
  },
  {
   "cell_type": "markdown",
   "metadata": {},
   "source": [
    "### Return Statement:\n",
    "\n",
    "- Functions can return a value using the return statement.\n",
    "- If no return statement is provided, the function returns None by default."
   ]
  },
  {
   "cell_type": "code",
   "execution_count": 34,
   "metadata": {},
   "outputs": [
    {
     "name": "stdout",
     "output_type": "stream",
     "text": [
      "even number\n",
      "Number is even\n"
     ]
    }
   ],
   "source": [
    "def is_even_number(number):\n",
    "    if number %2==0:\n",
    "        print('even number')\n",
    "        return 'Number is even'\n",
    "    \n",
    "    print('odd number')\n",
    "    return 'Number is odd'\n",
    "  \n",
    "\n",
    "\n",
    "check_number = is_even_number(4)\n",
    "print(check_number)"
   ]
  },
  {
   "cell_type": "markdown",
   "metadata": {},
   "source": [
    "### Lambda Functions\n",
    "- Lambda functions, also known as anonymous functions, are small, single-expression functions defined using the lambda keyword.\n",
    "- They are often used for short, simple operations."
   ]
  },
  {
   "cell_type": "code",
   "execution_count": 6,
   "metadata": {},
   "outputs": [
    {
     "name": "stdout",
     "output_type": "stream",
     "text": [
      "16\n"
     ]
    }
   ],
   "source": [
    "square = lambda x: x ** 2\n",
    "print(square(4))  # Output: 16"
   ]
  }
 ],
 "metadata": {
  "kernelspec": {
   "display_name": "base",
   "language": "python",
   "name": "python3"
  },
  "language_info": {
   "codemirror_mode": {
    "name": "ipython",
    "version": 3
   },
   "file_extension": ".py",
   "mimetype": "text/x-python",
   "name": "python",
   "nbconvert_exporter": "python",
   "pygments_lexer": "ipython3",
   "version": "3.12.4"
  }
 },
 "nbformat": 4,
 "nbformat_minor": 2
}
