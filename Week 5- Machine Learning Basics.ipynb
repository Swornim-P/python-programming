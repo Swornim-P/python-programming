{
 "cells": [
  {
   "cell_type": "markdown",
   "metadata": {},
   "source": [
    "# Machine Learning Basics"
   ]
  },
  {
   "cell_type": "markdown",
   "metadata": {},
   "source": []
  },
  {
   "cell_type": "markdown",
   "metadata": {},
   "source": [
    "## Linear Regression\n",
    "![Simple Linear Regression](./assets/linear-regression-calculation.png)"
   ]
  },
  {
   "cell_type": "code",
   "execution_count": null,
   "metadata": {},
   "outputs": [
    {
     "data": {
      "image/png": "[encoded data removed]",
      "text/plain": [
       "<Figure size 500x300 with 1 Axes>"
      ]
     },
     "metadata": {},
     "output_type": "display_data"
    }
   ],
   "source": [
    "import pandas as pd\n",
    "import numpy as np\n",
    "import matplotlib.pyplot as plt\n",
    "sales_data = pd.DataFrame({\n",
    "    'price':[10,12,13,12,16,15],\n",
    "    'sales':[40,38,43,45,37,43]\n",
    "})\n",
    "\n",
    "plt.figure(figsize=(5, 3))\n",
    "plt.scatter(\n",
    "    sales_data['price'],\n",
    "    sales_data['sales'],\n",
    "    color='purple',\n",
    "    edgecolor='black',\n",
    ")\n",
    "\n",
    "# Fit a linear regression model to the data\n",
    "x = sales_data['price']\n",
    "y = sales_data['sales']\n",
    "m, c = np.polyfit(x, y, 1)\n",
    "\n",
    "# Plot the trend line\n",
    "plt.plot(x, \n",
    "         m * x + c, color='red',\n",
    "           linewidth=1,\n",
    "        \n",
    ") \n",
    "plt.annotate( 'y = {:.2f}x + {:.2f}'.format(m, c), xy=(0.1, 0.9),\n",
    "              xycoords='axes fraction',\n",
    "                fontsize=12, color='red')\n",
    "\n",
    "plt.xticks(rotation=45)\n",
    "plt.title('Price vs Sales')\n",
    "plt.xlabel('Price')\n",
    "plt.ylabel('Sales')\n",
    "plt.grid(True)\n",
    "plt.show()"
   ]
  },
  {
   "cell_type": "markdown",
   "metadata": {},
   "source": [
    "###  Applying the statistical approach to calculate coefficients 'a' (slope) and 'b' (intercept)\n",
    "- Using the formulas:\n",
    "- ∑y = a * n + b * ∑x\n",
    "- ∑xy = a * ∑x + b * ∑x^2\n",
    "#### Direct Formula\n",
    "- $m = \\frac{n \\sum (XY) - \\sum X \\sum Y}{n \\sum X^2 - (\\sum X)^2}$\n",
    "\n",
    "- $c = \\frac{\\sum Y - m \\sum X}{n}$\n"
   ]
  },
  {
   "cell_type": "code",
   "execution_count": 11,
   "metadata": {},
   "outputs": [
    {
     "name": "stdout",
     "output_type": "stream",
     "text": [
      "-0.25 44.25\n"
     ]
    },
    {
     "data": {
      "text/plain": [
       "39.25"
      ]
     },
     "execution_count": 11,
     "metadata": {},
     "output_type": "execute_result"
    }
   ],
   "source": [
    "\n",
    "X = sales_data['price']\n",
    "Y = sales_data['sales']\n",
    "n = len(X)\n",
    "\n",
    "sum_X = np.sum(X)\n",
    "sum_Y = np.sum(Y)\n",
    "sum_XY = np.sum(X * Y)\n",
    "sum_X2 = np.sum(X**2)\n",
    "\n",
    "# Solving for 'm' (slope) and 'c' (intercept) using the summation formulas\n",
    "m = (n * sum_XY - (sum_X * sum_Y) ) / ( (n * sum_X2) - (sum_X**2) )\n",
    "c = (sum_Y - ( m * sum_X)) / n\n",
    "\n",
    "print(m,c)\n",
    "\n",
    "# Predicting sales when price is 20 using the calculated coefficients\n",
    "predicted_sales_stat = m * 20 + c\n",
    "predicted_sales_stat\n"
   ]
  },
  {
   "cell_type": "code",
   "execution_count": null,
   "metadata": {},
   "outputs": [],
   "source": []
  }
 ],
 "metadata": {
  "kernelspec": {
   "display_name": "base",
   "language": "python",
   "name": "python3"
  },
  "language_info": {
   "codemirror_mode": {
    "name": "ipython",
    "version": 3
   },
   "file_extension": ".py",
   "mimetype": "text/x-python",
   "name": "python",
   "nbconvert_exporter": "python",
   "pygments_lexer": "ipython3",
   "version": "3.12.4"
  }
 },
 "nbformat": 4,
 "nbformat_minor": 2
}
